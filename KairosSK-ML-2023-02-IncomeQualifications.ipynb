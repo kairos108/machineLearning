{
 "cells": [
  {
   "cell_type": "markdown",
   "metadata": {},
   "source": [
    "# Table of Contents"
   ]
  },
  {
   "cell_type": "code",
   "execution_count": null,
   "metadata": {},
   "outputs": [],
   "source": [
    "\"\"\"\n",
    "Kairos Siddhartha Kaizen\n",
    "https://kaizen.tel\n",
    "kairos@kaizen.tel\n",
    "https://wa.me/6587745558\n",
    "+65 8774 5558\n",
    "\n",
    "Notes for evaluators:\n",
    "Whilst this was a group project, I was the incumbent for Machine Learning.\n",
    "All code below is 100% by me.\n",
    "\"\"\""
   ]
  },
  {
   "cell_type": "code",
   "execution_count": 739,
   "metadata": {},
   "outputs": [
    {
     "data": {
      "text/plain": [
       "'\\n* Note for Marker/ Grader/ Trainer: Refer to the below for fast and easy access to answers.\\n\\n* Identify the output variable.\\n  * Chapter 2.1\\n  \\n* Understand the type of data.\\n  * Chapter 2.0\\n  \\n* Check if there are any biases in your dataset.\\n  * Chapter 2.2\\n  \\n* Check whether all members of the house have the same poverty level.\\n  * Chapter 3.6.2\\n  \\n* Check if there is a house without a family head.\\n  * Chapter 3.6.1\\n  \\n* Set the poverty level of the members and the head of the house same in a family.\\n  * Chapter 3.6.3\\n  \\n* Count how many null values are existing in columns.\\n  * Chapter 3.5\\n  \\n* Remove null value rows of the target variable.\\n  * Chapters 3.5.1 to 3.5.5\\n  \\n* Predict the accuracy using random forest classifier.\\n  * Chapter 4.1\\n  \\n* Check the accuracy using a random forest with cross-validation.\\n  * Chapter 4.1.7\\n'"
      ]
     },
     "execution_count": 739,
     "metadata": {},
     "output_type": "execute_result"
    }
   ],
   "source": [
    "\"\"\"\n",
    "*** Note for Grader/ Marker/ Trainer: Refer to the below for fast and easy access to answers. ***\n",
    "\n",
    "* Identify the output variable.\n",
    "  * Chapter 2.1\n",
    "  \n",
    "* Understand the type of data.\n",
    "  * Chapter 2.0\n",
    "  \n",
    "* Check if there are any biases in your dataset.\n",
    "  * Chapter 2.2\n",
    "  \n",
    "* Check whether all members of the house have the same poverty level.\n",
    "  * Chapter 3.6.2\n",
    "  \n",
    "* Check if there is a house without a family head.\n",
    "  * Chapter 3.6.1\n",
    "  \n",
    "* Set the poverty level of the members and the head of the house same in a family.\n",
    "  * Chapter 3.6.3\n",
    "  \n",
    "* Count how many null values are existing in columns.\n",
    "  * Chapter 3.5\n",
    "  \n",
    "* Remove null value rows of the target variable.\n",
    "  * Chapters 3.5.1 to 3.5.5\n",
    "  \n",
    "* Predict the accuracy using random forest classifier.\n",
    "  * Chapter 4.1\n",
    "  \n",
    "* Check the accuracy using a random forest with cross-validation.\n",
    "  * Chapter 4.1.7\n",
    "\"\"\""
   ]
  },
  {
   "cell_type": "markdown",
   "metadata": {},
   "source": [
    "# 1.0 Loading libraries and datasets."
   ]
  },
  {
   "cell_type": "code",
   "execution_count": 740,
   "metadata": {},
   "outputs": [],
   "source": [
    "import pandas as pd\n",
    "import numpy as np\n",
    "import matplotlib.pyplot as plt\n",
    "import seaborn as sns\n",
    "%matplotlib inline"
   ]
  },
  {
   "cell_type": "code",
   "execution_count": 741,
   "metadata": {},
   "outputs": [
    {
     "name": "stdout",
     "output_type": "stream",
     "text": [
      "Both datasets loaded successfully.\n"
     ]
    }
   ],
   "source": [
    "# Loading the datasets.\n",
    "\n",
    "try:\n",
    "    df_train = pd.read_csv('./data/train.csv')\n",
    "    df_test = pd.read_csv('./data/test.csv')\n",
    "    print(\"Both datasets loaded successfully.\")\n",
    "except:\n",
    "    print(\"Something went wrong. Datasets NOT loaded successfully.\")"
   ]
  },
  {
   "cell_type": "markdown",
   "metadata": {},
   "source": [
    "# 2.0 Initial Exploration"
   ]
  },
  {
   "cell_type": "code",
   "execution_count": 742,
   "metadata": {},
   "outputs": [
    {
     "name": "stdout",
     "output_type": "stream",
     "text": [
      "Shape of TRAIN dataset df_train: (9557, 143)\n",
      "Shape of TEST dataset df_test: (23856, 142)\n"
     ]
    }
   ],
   "source": [
    "# How many rows and columns are there in each dataset?\n",
    "\n",
    "print(f'Shape of TRAIN dataset df_train: {df_train.shape}')\n",
    "print(f'Shape of TEST dataset df_test: {df_test.shape}')"
   ]
  },
  {
   "cell_type": "code",
   "execution_count": 743,
   "metadata": {},
   "outputs": [
    {
     "data": {
      "text/html": [
       "<div>\n",
       "<style scoped>\n",
       "    .dataframe tbody tr th:only-of-type {\n",
       "        vertical-align: middle;\n",
       "    }\n",
       "\n",
       "    .dataframe tbody tr th {\n",
       "        vertical-align: top;\n",
       "    }\n",
       "\n",
       "    .dataframe thead th {\n",
       "        text-align: right;\n",
       "    }\n",
       "</style>\n",
       "<table border=\"1\" class=\"dataframe\">\n",
       "  <thead>\n",
       "    <tr style=\"text-align: right;\">\n",
       "      <th></th>\n",
       "      <th>count</th>\n",
       "      <th>unique</th>\n",
       "      <th>top</th>\n",
       "      <th>freq</th>\n",
       "      <th>mean</th>\n",
       "      <th>std</th>\n",
       "      <th>min</th>\n",
       "      <th>25%</th>\n",
       "      <th>50%</th>\n",
       "      <th>75%</th>\n",
       "      <th>max</th>\n",
       "    </tr>\n",
       "  </thead>\n",
       "  <tbody>\n",
       "    <tr>\n",
       "      <th>Id</th>\n",
       "      <td>9557</td>\n",
       "      <td>9557</td>\n",
       "      <td>ID_279628684</td>\n",
       "      <td>1</td>\n",
       "      <td>NaN</td>\n",
       "      <td>NaN</td>\n",
       "      <td>NaN</td>\n",
       "      <td>NaN</td>\n",
       "      <td>NaN</td>\n",
       "      <td>NaN</td>\n",
       "      <td>NaN</td>\n",
       "    </tr>\n",
       "    <tr>\n",
       "      <th>v2a1</th>\n",
       "      <td>2697.0</td>\n",
       "      <td>NaN</td>\n",
       "      <td>NaN</td>\n",
       "      <td>NaN</td>\n",
       "      <td>165231.606971</td>\n",
       "      <td>150457.133301</td>\n",
       "      <td>0.0</td>\n",
       "      <td>80000.0</td>\n",
       "      <td>130000.0</td>\n",
       "      <td>200000.0</td>\n",
       "      <td>2353477.0</td>\n",
       "    </tr>\n",
       "    <tr>\n",
       "      <th>hacdor</th>\n",
       "      <td>9557.0</td>\n",
       "      <td>NaN</td>\n",
       "      <td>NaN</td>\n",
       "      <td>NaN</td>\n",
       "      <td>0.038087</td>\n",
       "      <td>0.191417</td>\n",
       "      <td>0.0</td>\n",
       "      <td>0.0</td>\n",
       "      <td>0.0</td>\n",
       "      <td>0.0</td>\n",
       "      <td>1.0</td>\n",
       "    </tr>\n",
       "    <tr>\n",
       "      <th>rooms</th>\n",
       "      <td>9557.0</td>\n",
       "      <td>NaN</td>\n",
       "      <td>NaN</td>\n",
       "      <td>NaN</td>\n",
       "      <td>4.95553</td>\n",
       "      <td>1.468381</td>\n",
       "      <td>1.0</td>\n",
       "      <td>4.0</td>\n",
       "      <td>5.0</td>\n",
       "      <td>6.0</td>\n",
       "      <td>11.0</td>\n",
       "    </tr>\n",
       "    <tr>\n",
       "      <th>hacapo</th>\n",
       "      <td>9557.0</td>\n",
       "      <td>NaN</td>\n",
       "      <td>NaN</td>\n",
       "      <td>NaN</td>\n",
       "      <td>0.023648</td>\n",
       "      <td>0.151957</td>\n",
       "      <td>0.0</td>\n",
       "      <td>0.0</td>\n",
       "      <td>0.0</td>\n",
       "      <td>0.0</td>\n",
       "      <td>1.0</td>\n",
       "    </tr>\n",
       "    <tr>\n",
       "      <th>...</th>\n",
       "      <td>...</td>\n",
       "      <td>...</td>\n",
       "      <td>...</td>\n",
       "      <td>...</td>\n",
       "      <td>...</td>\n",
       "      <td>...</td>\n",
       "      <td>...</td>\n",
       "      <td>...</td>\n",
       "      <td>...</td>\n",
       "      <td>...</td>\n",
       "      <td>...</td>\n",
       "    </tr>\n",
       "    <tr>\n",
       "      <th>SQBovercrowding</th>\n",
       "      <td>9557.0</td>\n",
       "      <td>NaN</td>\n",
       "      <td>NaN</td>\n",
       "      <td>NaN</td>\n",
       "      <td>3.249485</td>\n",
       "      <td>4.129547</td>\n",
       "      <td>0.04</td>\n",
       "      <td>1.0</td>\n",
       "      <td>2.25</td>\n",
       "      <td>4.0</td>\n",
       "      <td>36.0</td>\n",
       "    </tr>\n",
       "    <tr>\n",
       "      <th>SQBdependency</th>\n",
       "      <td>9557.0</td>\n",
       "      <td>NaN</td>\n",
       "      <td>NaN</td>\n",
       "      <td>NaN</td>\n",
       "      <td>3.900409</td>\n",
       "      <td>12.511831</td>\n",
       "      <td>0.0</td>\n",
       "      <td>0.111111</td>\n",
       "      <td>0.444444</td>\n",
       "      <td>1.777778</td>\n",
       "      <td>64.0</td>\n",
       "    </tr>\n",
       "    <tr>\n",
       "      <th>SQBmeaned</th>\n",
       "      <td>9552.0</td>\n",
       "      <td>NaN</td>\n",
       "      <td>NaN</td>\n",
       "      <td>NaN</td>\n",
       "      <td>102.588867</td>\n",
       "      <td>93.51689</td>\n",
       "      <td>0.0</td>\n",
       "      <td>36.0</td>\n",
       "      <td>81.0</td>\n",
       "      <td>134.56001</td>\n",
       "      <td>1369.0</td>\n",
       "    </tr>\n",
       "    <tr>\n",
       "      <th>agesq</th>\n",
       "      <td>9557.0</td>\n",
       "      <td>NaN</td>\n",
       "      <td>NaN</td>\n",
       "      <td>NaN</td>\n",
       "      <td>1643.774302</td>\n",
       "      <td>1741.19705</td>\n",
       "      <td>0.0</td>\n",
       "      <td>289.0</td>\n",
       "      <td>961.0</td>\n",
       "      <td>2601.0</td>\n",
       "      <td>9409.0</td>\n",
       "    </tr>\n",
       "    <tr>\n",
       "      <th>Target</th>\n",
       "      <td>9557.0</td>\n",
       "      <td>NaN</td>\n",
       "      <td>NaN</td>\n",
       "      <td>NaN</td>\n",
       "      <td>3.302292</td>\n",
       "      <td>1.009565</td>\n",
       "      <td>1.0</td>\n",
       "      <td>3.0</td>\n",
       "      <td>4.0</td>\n",
       "      <td>4.0</td>\n",
       "      <td>4.0</td>\n",
       "    </tr>\n",
       "  </tbody>\n",
       "</table>\n",
       "<p>143 rows × 11 columns</p>\n",
       "</div>"
      ],
      "text/plain": [
       "                  count unique           top freq           mean  \\\n",
       "Id                 9557   9557  ID_279628684    1            NaN   \n",
       "v2a1             2697.0    NaN           NaN  NaN  165231.606971   \n",
       "hacdor           9557.0    NaN           NaN  NaN       0.038087   \n",
       "rooms            9557.0    NaN           NaN  NaN        4.95553   \n",
       "hacapo           9557.0    NaN           NaN  NaN       0.023648   \n",
       "...                 ...    ...           ...  ...            ...   \n",
       "SQBovercrowding  9557.0    NaN           NaN  NaN       3.249485   \n",
       "SQBdependency    9557.0    NaN           NaN  NaN       3.900409   \n",
       "SQBmeaned        9552.0    NaN           NaN  NaN     102.588867   \n",
       "agesq            9557.0    NaN           NaN  NaN    1643.774302   \n",
       "Target           9557.0    NaN           NaN  NaN       3.302292   \n",
       "\n",
       "                           std   min       25%       50%        75%        max  \n",
       "Id                         NaN   NaN       NaN       NaN        NaN        NaN  \n",
       "v2a1             150457.133301   0.0   80000.0  130000.0   200000.0  2353477.0  \n",
       "hacdor                0.191417   0.0       0.0       0.0        0.0        1.0  \n",
       "rooms                 1.468381   1.0       4.0       5.0        6.0       11.0  \n",
       "hacapo                0.151957   0.0       0.0       0.0        0.0        1.0  \n",
       "...                        ...   ...       ...       ...        ...        ...  \n",
       "SQBovercrowding       4.129547  0.04       1.0      2.25        4.0       36.0  \n",
       "SQBdependency        12.511831   0.0  0.111111  0.444444   1.777778       64.0  \n",
       "SQBmeaned             93.51689   0.0      36.0      81.0  134.56001     1369.0  \n",
       "agesq               1741.19705   0.0     289.0     961.0     2601.0     9409.0  \n",
       "Target                1.009565   1.0       3.0       4.0        4.0        4.0  \n",
       "\n",
       "[143 rows x 11 columns]"
      ]
     },
     "execution_count": 743,
     "metadata": {},
     "output_type": "execute_result"
    }
   ],
   "source": [
    "df_train.describe(include=\"all\").T"
   ]
  },
  {
   "cell_type": "code",
   "execution_count": 744,
   "metadata": {},
   "outputs": [
    {
     "data": {
      "text/html": [
       "<div>\n",
       "<style scoped>\n",
       "    .dataframe tbody tr th:only-of-type {\n",
       "        vertical-align: middle;\n",
       "    }\n",
       "\n",
       "    .dataframe tbody tr th {\n",
       "        vertical-align: top;\n",
       "    }\n",
       "\n",
       "    .dataframe thead th {\n",
       "        text-align: right;\n",
       "    }\n",
       "</style>\n",
       "<table border=\"1\" class=\"dataframe\">\n",
       "  <thead>\n",
       "    <tr style=\"text-align: right;\">\n",
       "      <th></th>\n",
       "      <th>count</th>\n",
       "      <th>unique</th>\n",
       "      <th>top</th>\n",
       "      <th>freq</th>\n",
       "      <th>mean</th>\n",
       "      <th>std</th>\n",
       "      <th>min</th>\n",
       "      <th>25%</th>\n",
       "      <th>50%</th>\n",
       "      <th>75%</th>\n",
       "      <th>max</th>\n",
       "    </tr>\n",
       "  </thead>\n",
       "  <tbody>\n",
       "    <tr>\n",
       "      <th>Id</th>\n",
       "      <td>23856</td>\n",
       "      <td>23856</td>\n",
       "      <td>ID_2f6873615</td>\n",
       "      <td>1</td>\n",
       "      <td>NaN</td>\n",
       "      <td>NaN</td>\n",
       "      <td>NaN</td>\n",
       "      <td>NaN</td>\n",
       "      <td>NaN</td>\n",
       "      <td>NaN</td>\n",
       "      <td>NaN</td>\n",
       "    </tr>\n",
       "    <tr>\n",
       "      <th>v2a1</th>\n",
       "      <td>6453.0</td>\n",
       "      <td>NaN</td>\n",
       "      <td>NaN</td>\n",
       "      <td>NaN</td>\n",
       "      <td>174872.554316</td>\n",
       "      <td>156788.707329</td>\n",
       "      <td>0.0</td>\n",
       "      <td>80000.0</td>\n",
       "      <td>140000.0</td>\n",
       "      <td>220000.0</td>\n",
       "      <td>2852700.0</td>\n",
       "    </tr>\n",
       "    <tr>\n",
       "      <th>hacdor</th>\n",
       "      <td>23856.0</td>\n",
       "      <td>NaN</td>\n",
       "      <td>NaN</td>\n",
       "      <td>NaN</td>\n",
       "      <td>0.050679</td>\n",
       "      <td>0.219346</td>\n",
       "      <td>0.0</td>\n",
       "      <td>0.0</td>\n",
       "      <td>0.0</td>\n",
       "      <td>0.0</td>\n",
       "      <td>1.0</td>\n",
       "    </tr>\n",
       "    <tr>\n",
       "      <th>rooms</th>\n",
       "      <td>23856.0</td>\n",
       "      <td>NaN</td>\n",
       "      <td>NaN</td>\n",
       "      <td>NaN</td>\n",
       "      <td>4.955776</td>\n",
       "      <td>1.539753</td>\n",
       "      <td>1.0</td>\n",
       "      <td>4.0</td>\n",
       "      <td>5.0</td>\n",
       "      <td>6.0</td>\n",
       "      <td>15.0</td>\n",
       "    </tr>\n",
       "    <tr>\n",
       "      <th>hacapo</th>\n",
       "      <td>23856.0</td>\n",
       "      <td>NaN</td>\n",
       "      <td>NaN</td>\n",
       "      <td>NaN</td>\n",
       "      <td>0.028421</td>\n",
       "      <td>0.166174</td>\n",
       "      <td>0.0</td>\n",
       "      <td>0.0</td>\n",
       "      <td>0.0</td>\n",
       "      <td>0.0</td>\n",
       "      <td>1.0</td>\n",
       "    </tr>\n",
       "    <tr>\n",
       "      <th>...</th>\n",
       "      <td>...</td>\n",
       "      <td>...</td>\n",
       "      <td>...</td>\n",
       "      <td>...</td>\n",
       "      <td>...</td>\n",
       "      <td>...</td>\n",
       "      <td>...</td>\n",
       "      <td>...</td>\n",
       "      <td>...</td>\n",
       "      <td>...</td>\n",
       "      <td>...</td>\n",
       "    </tr>\n",
       "    <tr>\n",
       "      <th>SQBhogar_nin</th>\n",
       "      <td>23856.0</td>\n",
       "      <td>NaN</td>\n",
       "      <td>NaN</td>\n",
       "      <td>NaN</td>\n",
       "      <td>3.88548</td>\n",
       "      <td>6.878967</td>\n",
       "      <td>0.0</td>\n",
       "      <td>0.0</td>\n",
       "      <td>1.0</td>\n",
       "      <td>4.0</td>\n",
       "      <td>100.0</td>\n",
       "    </tr>\n",
       "    <tr>\n",
       "      <th>SQBovercrowding</th>\n",
       "      <td>23856.0</td>\n",
       "      <td>NaN</td>\n",
       "      <td>NaN</td>\n",
       "      <td>NaN</td>\n",
       "      <td>3.564751</td>\n",
       "      <td>6.668757</td>\n",
       "      <td>0.020408</td>\n",
       "      <td>1.0</td>\n",
       "      <td>2.25</td>\n",
       "      <td>4.0</td>\n",
       "      <td>169.0</td>\n",
       "    </tr>\n",
       "    <tr>\n",
       "      <th>SQBdependency</th>\n",
       "      <td>23856.0</td>\n",
       "      <td>NaN</td>\n",
       "      <td>NaN</td>\n",
       "      <td>NaN</td>\n",
       "      <td>4.171669</td>\n",
       "      <td>13.105989</td>\n",
       "      <td>0.0</td>\n",
       "      <td>0.111111</td>\n",
       "      <td>0.444444</td>\n",
       "      <td>1.777778</td>\n",
       "      <td>64.0</td>\n",
       "    </tr>\n",
       "    <tr>\n",
       "      <th>SQBmeaned</th>\n",
       "      <td>23825.0</td>\n",
       "      <td>NaN</td>\n",
       "      <td>NaN</td>\n",
       "      <td>NaN</td>\n",
       "      <td>100.50922</td>\n",
       "      <td>89.211063</td>\n",
       "      <td>0.0</td>\n",
       "      <td>36.0</td>\n",
       "      <td>75.111115</td>\n",
       "      <td>132.25</td>\n",
       "      <td>1296.0</td>\n",
       "    </tr>\n",
       "    <tr>\n",
       "      <th>agesq</th>\n",
       "      <td>23856.0</td>\n",
       "      <td>NaN</td>\n",
       "      <td>NaN</td>\n",
       "      <td>NaN</td>\n",
       "      <td>1657.79808</td>\n",
       "      <td>1753.603406</td>\n",
       "      <td>0.0</td>\n",
       "      <td>256.0</td>\n",
       "      <td>1024.0</td>\n",
       "      <td>2601.0</td>\n",
       "      <td>9409.0</td>\n",
       "    </tr>\n",
       "  </tbody>\n",
       "</table>\n",
       "<p>142 rows × 11 columns</p>\n",
       "</div>"
      ],
      "text/plain": [
       "                   count unique           top freq           mean  \\\n",
       "Id                 23856  23856  ID_2f6873615    1            NaN   \n",
       "v2a1              6453.0    NaN           NaN  NaN  174872.554316   \n",
       "hacdor           23856.0    NaN           NaN  NaN       0.050679   \n",
       "rooms            23856.0    NaN           NaN  NaN       4.955776   \n",
       "hacapo           23856.0    NaN           NaN  NaN       0.028421   \n",
       "...                  ...    ...           ...  ...            ...   \n",
       "SQBhogar_nin     23856.0    NaN           NaN  NaN        3.88548   \n",
       "SQBovercrowding  23856.0    NaN           NaN  NaN       3.564751   \n",
       "SQBdependency    23856.0    NaN           NaN  NaN       4.171669   \n",
       "SQBmeaned        23825.0    NaN           NaN  NaN      100.50922   \n",
       "agesq            23856.0    NaN           NaN  NaN     1657.79808   \n",
       "\n",
       "                           std       min       25%        50%       75%  \\\n",
       "Id                         NaN       NaN       NaN        NaN       NaN   \n",
       "v2a1             156788.707329       0.0   80000.0   140000.0  220000.0   \n",
       "hacdor                0.219346       0.0       0.0        0.0       0.0   \n",
       "rooms                 1.539753       1.0       4.0        5.0       6.0   \n",
       "hacapo                0.166174       0.0       0.0        0.0       0.0   \n",
       "...                        ...       ...       ...        ...       ...   \n",
       "SQBhogar_nin          6.878967       0.0       0.0        1.0       4.0   \n",
       "SQBovercrowding       6.668757  0.020408       1.0       2.25       4.0   \n",
       "SQBdependency        13.105989       0.0  0.111111   0.444444  1.777778   \n",
       "SQBmeaned            89.211063       0.0      36.0  75.111115    132.25   \n",
       "agesq              1753.603406       0.0     256.0     1024.0    2601.0   \n",
       "\n",
       "                       max  \n",
       "Id                     NaN  \n",
       "v2a1             2852700.0  \n",
       "hacdor                 1.0  \n",
       "rooms                 15.0  \n",
       "hacapo                 1.0  \n",
       "...                    ...  \n",
       "SQBhogar_nin         100.0  \n",
       "SQBovercrowding      169.0  \n",
       "SQBdependency         64.0  \n",
       "SQBmeaned           1296.0  \n",
       "agesq               9409.0  \n",
       "\n",
       "[142 rows x 11 columns]"
      ]
     },
     "execution_count": 744,
     "metadata": {},
     "output_type": "execute_result"
    }
   ],
   "source": [
    "df_test.describe(include=\"all\").T"
   ]
  },
  {
   "cell_type": "code",
   "execution_count": 745,
   "metadata": {},
   "outputs": [
    {
     "data": {
      "text/html": [
       "<div>\n",
       "<style scoped>\n",
       "    .dataframe tbody tr th:only-of-type {\n",
       "        vertical-align: middle;\n",
       "    }\n",
       "\n",
       "    .dataframe tbody tr th {\n",
       "        vertical-align: top;\n",
       "    }\n",
       "\n",
       "    .dataframe thead th {\n",
       "        text-align: right;\n",
       "    }\n",
       "</style>\n",
       "<table border=\"1\" class=\"dataframe\">\n",
       "  <thead>\n",
       "    <tr style=\"text-align: right;\">\n",
       "      <th></th>\n",
       "      <th>count</th>\n",
       "      <th>unique</th>\n",
       "      <th>top</th>\n",
       "      <th>freq</th>\n",
       "    </tr>\n",
       "  </thead>\n",
       "  <tbody>\n",
       "    <tr>\n",
       "      <th>Id</th>\n",
       "      <td>9557</td>\n",
       "      <td>9557</td>\n",
       "      <td>ID_279628684</td>\n",
       "      <td>1</td>\n",
       "    </tr>\n",
       "    <tr>\n",
       "      <th>idhogar</th>\n",
       "      <td>9557</td>\n",
       "      <td>2988</td>\n",
       "      <td>fd8a6d014</td>\n",
       "      <td>13</td>\n",
       "    </tr>\n",
       "    <tr>\n",
       "      <th>dependency</th>\n",
       "      <td>9557</td>\n",
       "      <td>31</td>\n",
       "      <td>yes</td>\n",
       "      <td>2192</td>\n",
       "    </tr>\n",
       "    <tr>\n",
       "      <th>edjefe</th>\n",
       "      <td>9557</td>\n",
       "      <td>22</td>\n",
       "      <td>no</td>\n",
       "      <td>3762</td>\n",
       "    </tr>\n",
       "    <tr>\n",
       "      <th>edjefa</th>\n",
       "      <td>9557</td>\n",
       "      <td>22</td>\n",
       "      <td>no</td>\n",
       "      <td>6230</td>\n",
       "    </tr>\n",
       "  </tbody>\n",
       "</table>\n",
       "</div>"
      ],
      "text/plain": [
       "           count unique           top  freq\n",
       "Id          9557   9557  ID_279628684     1\n",
       "idhogar     9557   2988     fd8a6d014    13\n",
       "dependency  9557     31           yes  2192\n",
       "edjefe      9557     22            no  3762\n",
       "edjefa      9557     22            no  6230"
      ]
     },
     "execution_count": 745,
     "metadata": {},
     "output_type": "execute_result"
    }
   ],
   "source": [
    "df_train.describe(include=\"O\").T"
   ]
  },
  {
   "cell_type": "code",
   "execution_count": 746,
   "metadata": {},
   "outputs": [
    {
     "data": {
      "text/html": [
       "<div>\n",
       "<style scoped>\n",
       "    .dataframe tbody tr th:only-of-type {\n",
       "        vertical-align: middle;\n",
       "    }\n",
       "\n",
       "    .dataframe tbody tr th {\n",
       "        vertical-align: top;\n",
       "    }\n",
       "\n",
       "    .dataframe thead th {\n",
       "        text-align: right;\n",
       "    }\n",
       "</style>\n",
       "<table border=\"1\" class=\"dataframe\">\n",
       "  <thead>\n",
       "    <tr style=\"text-align: right;\">\n",
       "      <th></th>\n",
       "      <th>count</th>\n",
       "      <th>unique</th>\n",
       "      <th>top</th>\n",
       "      <th>freq</th>\n",
       "    </tr>\n",
       "  </thead>\n",
       "  <tbody>\n",
       "    <tr>\n",
       "      <th>Id</th>\n",
       "      <td>23856</td>\n",
       "      <td>23856</td>\n",
       "      <td>ID_2f6873615</td>\n",
       "      <td>1</td>\n",
       "    </tr>\n",
       "    <tr>\n",
       "      <th>idhogar</th>\n",
       "      <td>23856</td>\n",
       "      <td>7352</td>\n",
       "      <td>8e9159699</td>\n",
       "      <td>13</td>\n",
       "    </tr>\n",
       "    <tr>\n",
       "      <th>dependency</th>\n",
       "      <td>23856</td>\n",
       "      <td>35</td>\n",
       "      <td>yes</td>\n",
       "      <td>5388</td>\n",
       "    </tr>\n",
       "    <tr>\n",
       "      <th>edjefe</th>\n",
       "      <td>23856</td>\n",
       "      <td>22</td>\n",
       "      <td>no</td>\n",
       "      <td>9056</td>\n",
       "    </tr>\n",
       "    <tr>\n",
       "      <th>edjefa</th>\n",
       "      <td>23856</td>\n",
       "      <td>22</td>\n",
       "      <td>no</td>\n",
       "      <td>15845</td>\n",
       "    </tr>\n",
       "  </tbody>\n",
       "</table>\n",
       "</div>"
      ],
      "text/plain": [
       "            count unique           top   freq\n",
       "Id          23856  23856  ID_2f6873615      1\n",
       "idhogar     23856   7352     8e9159699     13\n",
       "dependency  23856     35           yes   5388\n",
       "edjefe      23856     22            no   9056\n",
       "edjefa      23856     22            no  15845"
      ]
     },
     "execution_count": 746,
     "metadata": {},
     "output_type": "execute_result"
    }
   ],
   "source": [
    "df_test.describe(include=\"O\").T"
   ]
  },
  {
   "cell_type": "markdown",
   "metadata": {},
   "source": [
    "## 2.1 The Target Column."
   ]
  },
  {
   "cell_type": "code",
   "execution_count": 747,
   "metadata": {},
   "outputs": [
    {
     "name": "stdout",
     "output_type": "stream",
     "text": [
      "Our Target variable is \"Target\" in the TRAIN dataset.\n"
     ]
    }
   ],
   "source": [
    "# There is 1 extra column in the TRAIN dataset. This may be our \"target variable\".\n",
    "\n",
    "target1 = list(set(df_train.columns).difference(set(df_test.columns)))\n",
    "if target1:\n",
    "    print(f'Our Target variable is \"{target1[0]}\" in the TRAIN dataset.')\n",
    "else:\n",
    "    print(\"No variable found.\")"
   ]
  },
  {
   "cell_type": "markdown",
   "metadata": {},
   "source": [
    "## 2.2 Check for Bias."
   ]
  },
  {
   "cell_type": "code",
   "execution_count": 748,
   "metadata": {},
   "outputs": [
    {
     "data": {
      "text/plain": [
       "1     222\n",
       "2     442\n",
       "3     355\n",
       "4    1954\n",
       "Name: Target, dtype: int64"
      ]
     },
     "execution_count": 748,
     "metadata": {},
     "output_type": "execute_result"
    }
   ],
   "source": [
    "# Lets look at the dataset and plot head of household and Target\n",
    "# 1 = extreme poverty, 2 = moderate poverty, 3 = vulnerable households, 4 = non-vulnerable households \n",
    "\n",
    "heads = df_train.loc[df_train['parentesco1'] == 1].copy()\n",
    "target_counts = heads['Target'].value_counts().sort_index()\n",
    "target_counts"
   ]
  },
  {
   "cell_type": "code",
   "execution_count": 749,
   "metadata": {},
   "outputs": [
    {
     "data": {
      "text/plain": [
       "<Axes: title={'center': 'Target vs Total_Count'}>"
      ]
     },
     "execution_count": 749,
     "metadata": {},
     "output_type": "execute_result"
    },
    {
     "data": {
      "image/png": "[encoded data removed]",
      "text/plain": [
       "<Figure size 640x480 with 1 Axes>"
      ]
     },
     "metadata": {},
     "output_type": "display_data"
    }
   ],
   "source": [
    "target_counts.plot.bar(title=\"Target vs Total_Count\")"
   ]
  },
  {
   "cell_type": "code",
   "execution_count": 750,
   "metadata": {},
   "outputs": [
    {
     "data": {
      "text/plain": [
       "'\\nThere is a disproportionate amount in the dataset marked as \"4: Non-Vulnerable Households\".\\nTherefore, this dataset is biased.\\n'"
      ]
     },
     "execution_count": 750,
     "metadata": {},
     "output_type": "execute_result"
    }
   ],
   "source": [
    "\"\"\"\n",
    "There is a disproportionate amount in the dataset marked as \"4: Non-Vulnerable Households\".\n",
    "Therefore, this dataset is biased.\n",
    "\"\"\""
   ]
  },
  {
   "cell_type": "markdown",
   "metadata": {},
   "source": [
    "## 2.3 Amount of Missing/ Null Values"
   ]
  },
  {
   "cell_type": "code",
   "execution_count": 751,
   "metadata": {},
   "outputs": [
    {
     "name": "stdout",
     "output_type": "stream",
     "text": [
      "df_train: 156 out of 9557 rows contain missing values (1.6323113947891599 %).\n",
      "df_test: 448 out of 23856 rows contain missing values (1.8779342723004695 %).\n"
     ]
    }
   ],
   "source": [
    "df_train_no_na = df_train.dropna()\n",
    "df_test_no_na = df_test.dropna()\n",
    "\n",
    "bad_rows1 = df_train_no_na.shape[0]\n",
    "total_rows1 = len(df_train)\n",
    "pct1 = bad_rows1/total_rows1*100\n",
    "\n",
    "bad_rows2 = df_test_no_na.shape[0]\n",
    "total_rows2 = len(df_test)\n",
    "pct2 = bad_rows2/total_rows2*100\n",
    "\n",
    "print(f'df_train: {bad_rows1} out of {total_rows1} rows contain missing values ({pct1} %).')\n",
    "print(f'df_test: {bad_rows2} out of {total_rows2} rows contain missing values ({pct2} %).')"
   ]
  },
  {
   "cell_type": "markdown",
   "metadata": {},
   "source": [
    "# 3.0 Data Cleaning"
   ]
  },
  {
   "cell_type": "markdown",
   "metadata": {},
   "source": [
    "## 3.1 Immediate"
   ]
  },
  {
   "cell_type": "code",
   "execution_count": 752,
   "metadata": {},
   "outputs": [
    {
     "name": "stdout",
     "output_type": "stream",
     "text": [
      "['Id', 'v2a1', 'hacdor', 'rooms', 'hacapo', 'v14a', 'refrig', 'v18q', 'v18q1', 'r4h1', 'r4h2', 'r4h3', 'r4m1', 'r4m2', 'r4m3', 'r4t1', 'r4t2', 'r4t3', 'tamhog', 'tamviv', 'escolari', 'rez_esc', 'hhsize', 'paredblolad', 'paredzocalo', 'paredpreb', 'pareddes', 'paredmad', 'paredzinc', 'paredfibras', 'paredother', 'pisomoscer', 'pisocemento', 'pisoother', 'pisonatur', 'pisonotiene', 'pisomadera', 'techozinc', 'techoentrepiso', 'techocane', 'techootro', 'cielorazo', 'abastaguadentro', 'abastaguafuera', 'abastaguano', 'public', 'planpri', 'noelec', 'coopele', 'sanitario1', 'sanitario2', 'sanitario3', 'sanitario5', 'sanitario6', 'energcocinar1', 'energcocinar2', 'energcocinar3', 'energcocinar4', 'elimbasu1', 'elimbasu2', 'elimbasu3', 'elimbasu4', 'elimbasu5', 'elimbasu6', 'epared1', 'epared2', 'epared3', 'etecho1', 'etecho2', 'etecho3', 'eviv1', 'eviv2', 'eviv3', 'dis', 'male', 'female', 'estadocivil1', 'estadocivil2', 'estadocivil3', 'estadocivil4', 'estadocivil5', 'estadocivil6', 'estadocivil7', 'parentesco1', 'parentesco2', 'parentesco3', 'parentesco4', 'parentesco5', 'parentesco6', 'parentesco7', 'parentesco8', 'parentesco9', 'parentesco10', 'parentesco11', 'parentesco12', 'idhogar', 'hogar_nin', 'hogar_adul', 'hogar_mayor', 'hogar_total', 'dependency', 'edjefe', 'edjefa', 'meaneduc', 'instlevel1', 'instlevel2', 'instlevel3', 'instlevel4', 'instlevel5', 'instlevel6', 'instlevel7', 'instlevel8', 'instlevel9', 'bedrooms', 'overcrowding', 'tipovivi1', 'tipovivi2', 'tipovivi3', 'tipovivi4', 'tipovivi5', 'computer', 'television', 'mobilephone', 'qmobilephone', 'lugar1', 'lugar2', 'lugar3', 'lugar4', 'lugar5', 'lugar6', 'area1', 'area2', 'age', 'SQBescolari', 'SQBage', 'SQBhogar_total', 'SQBedjefe', 'SQBhogar_nin', 'SQBovercrowding', 'SQBdependency', 'SQBmeaned', 'agesq', 'Target']\n"
     ]
    }
   ],
   "source": [
    "# Are there any Features aka Columns that we can immediately remove?\n",
    "\n",
    "features = []\n",
    "for i in df_train.columns:\n",
    "    features.append(i)\n",
    "    \n",
    "print(features)"
   ]
  },
  {
   "cell_type": "code",
   "execution_count": 753,
   "metadata": {},
   "outputs": [
    {
     "name": "stdout",
     "output_type": "stream",
     "text": [
      "Are all values in Id unique, in df_train?: True\n",
      "Are all values in Id unique, in df_test?: True\n"
     ]
    }
   ],
   "source": [
    "# Double-checking ID: if they are all unique values, they can be discarded.\n",
    "\n",
    "print(f'Are all values in Id unique, in df_train?: {df_train.shape[0] == len(df_train.Id.unique())}')\n",
    "print(f'Are all values in Id unique, in df_test?: {df_test.shape[0] == len(df_test.Id.unique())}')"
   ]
  },
  {
   "cell_type": "code",
   "execution_count": 754,
   "metadata": {},
   "outputs": [
    {
     "name": "stdout",
     "output_type": "stream",
     "text": [
      "Are all values in idhogar unique, in df_train?: False\n",
      "Are all values in idhogar unique, in df_test?: False\n"
     ]
    }
   ],
   "source": [
    "# Double-checking idhogar: if they are all unique values, they can be discarded.\n",
    "\n",
    "print(f'Are all values in idhogar unique, in df_train?: {df_train.shape[0]==len(df_train.idhogar.unique())}')\n",
    "print(f'Are all values in idhogar unique, in df_test?: {df_test.shape[0]==len(df_test.idhogar.unique())}')"
   ]
  },
  {
   "cell_type": "code",
   "execution_count": 755,
   "metadata": {},
   "outputs": [
    {
     "name": "stdout",
     "output_type": "stream",
     "text": [
      "Columns in both datasets (df_train, df_test) have been successfully dropped.\n",
      "We have removed 10 features.\n"
     ]
    }
   ],
   "source": [
    "# From the list of Features, plus referencing the Features description file (PDF), we will be removing several unneeded features:\n",
    "# These are squared values, and only useful for Linear Regression models, thus will be removed: SQBescolari, SQBage, SQBhogar_total, SQBedjefe, SQBhogar_nin, SQBovercrowding, SQBdependency, SQBmeaned, agesq\n",
    "# These are just 100% unique IDs, and thus will be removed: Id\n",
    "# idhogar will not be removed yet, since it doesn't satisfy any of the above conditions.\n",
    "\n",
    "# Original number of features\n",
    "orig_features = len(df_train.columns)\n",
    "\n",
    "# Columns to drop\n",
    "columns_to_drop = [\n",
    "    'Id',\n",
    "    'SQBescolari',\n",
    "    'SQBage',\n",
    "    'SQBhogar_total',\n",
    "    'SQBedjefe',\n",
    "    'SQBhogar_nin',\n",
    "    'SQBovercrowding',\n",
    "    'SQBdependency',\n",
    "    'SQBmeaned',\n",
    "    'agesq']\n",
    "\n",
    "# Dropping the specified columns\n",
    "try:\n",
    "    df_train.drop(columns=columns_to_drop, inplace=True)\n",
    "    df_test.drop(columns=columns_to_drop, inplace=True)\n",
    "    print(\"Columns in both datasets (df_train, df_test) have been successfully dropped.\")\n",
    "except:\n",
    "    print(\"Something went wrong. Column dropping NOT successful.\")\n",
    "\n",
    "# Number of features removed\n",
    "print(f'We have removed {orig_features - len(df_train.columns)} features.')\n",
    "\n"
   ]
  },
  {
   "cell_type": "markdown",
   "metadata": {},
   "source": [
    "## 3.2 Zero-Variance Columns"
   ]
  },
  {
   "cell_type": "code",
   "execution_count": 756,
   "metadata": {},
   "outputs": [
    {
     "name": "stdout",
     "output_type": "stream",
     "text": [
      "Below are columns with variance 0.\n",
      "['elimbasu5']\n"
     ]
    },
    {
     "name": "stderr",
     "output_type": "stream",
     "text": [
      "c:\\ProgramData\\Anaconda3\\lib\\site-packages\\numpy\\core\\fromnumeric.py:3713: FutureWarning: The default value of numeric_only in DataFrame.var is deprecated. In a future version, it will default to False. In addition, specifying 'numeric_only=None' is deprecated. Select only valid columns or specify the value of numeric_only to silence this warning.\n",
      "  return var(axis=axis, dtype=dtype, out=out, ddof=ddof, **kwargs)\n"
     ]
    }
   ],
   "source": [
    "# Let's now check if there are any Features that have a variance of 0, i.e. the values are ALL the SAME.\n",
    "\n",
    "df_variance = pd.DataFrame(np.var(df_train,0), columns=['variance'])\n",
    "df_variance.sort_values(by='variance').head(15)\n",
    "print('Below are columns with variance 0.')\n",
    "features1 = list((df_variance[df_variance['variance'] == 0]).index)\n",
    "print(features1)"
   ]
  },
  {
   "cell_type": "code",
   "execution_count": 757,
   "metadata": {},
   "outputs": [
    {
     "name": "stdout",
     "output_type": "stream",
     "text": [
      "df_train:\n",
      " 0    9557\n",
      "Name: elimbasu5, dtype: int64\n",
      "\n",
      "df_test:\n",
      " 0    23852\n",
      "1        4\n",
      "Name: elimbasu5, dtype: int64\n"
     ]
    }
   ],
   "source": [
    "print(\"df_train:\\n\", df_train['elimbasu5'].value_counts())\n",
    "print(\"\\ndf_test:\\n\", df_test['elimbasu5'].value_counts())"
   ]
  },
  {
   "cell_type": "code",
   "execution_count": 758,
   "metadata": {},
   "outputs": [
    {
     "name": "stdout",
     "output_type": "stream",
     "text": [
      "Column \"elimbasu5\" successfuly dropped from both datasets.\n"
     ]
    }
   ],
   "source": [
    "# elimbasu5 : 1 if rubbish disposal mainly by throwing in river, creek or sea.\n",
    "# Since ALL the values in \"elimbasu5\" are zero in df_train, and only 4 out of 23852 in df_test are not 0, it's safe to remove the Feature.\n",
    "\n",
    "try:\n",
    "    df_train.drop(['elimbasu5'], axis=1, inplace=True)\n",
    "    df_test.drop(['elimbasu5'], axis=1, inplace=True)\n",
    "    print(f'Column \"elimbasu5\" successfuly dropped from both datasets.')\n",
    "except:\n",
    "    print(f'Something went wrong. Column dropping NOT successful.')"
   ]
  },
  {
   "cell_type": "markdown",
   "metadata": {},
   "source": [
    "## 3.3 Closer Inspection"
   ]
  },
  {
   "cell_type": "markdown",
   "metadata": {},
   "source": [
    "### 3.3.1 The \"area1\" and \"area2\" Columns."
   ]
  },
  {
   "cell_type": "code",
   "execution_count": 759,
   "metadata": {},
   "outputs": [
    {
     "name": "stdout",
     "output_type": "stream",
     "text": [
      "Degree of Freedom:- 1\n",
      "critical_value: 3.841458820694124\n",
      "p-value: 0.0\n",
      "Significance level:  0.05\n",
      "Degree of Freedom:  1\n",
      "chi-square statistic: 9552.097856827806\n",
      "critical_value: 3.841458820694124\n",
      "p-value: 0.0\n",
      "\n",
      "Chi-Square >= Crit Value: \n",
      "YES, there IS a relationship between 2 categorical variables, \"area1\" and \"area2.\"\n",
      "\n",
      "P-Value <= alpha: \n",
      "YES, there IS a relationship between 2 categorical variables, \"area1\" and \"area2.\"\n"
     ]
    }
   ],
   "source": [
    "# Upon closer inspection, we realize that area1 and area2 are probably related.\n",
    "# area1 = 1: zona urbana\n",
    "# area2 = 2: zona rural\n",
    "# Let's check for relationships, and confirm the hypothesis.\n",
    "\n",
    "var1 = \"area1\"\n",
    "var2 = \"area2\"\n",
    "contingency_tab = pd.crosstab(df_train[var1], df_train[var2])\n",
    "\n",
    "import scipy.stats\n",
    "b = scipy.stats.chi2_contingency(contingency_tab)\n",
    "chi_square_statistic = b[0]  # Directly retrieving the chi-square statistic\n",
    "df = b[2]  # Degrees of freedom\n",
    "print(\"Degree of Freedom:-\", df)\n",
    "\n",
    "alpha=0.05\n",
    "from scipy.stats import chi2\n",
    "critical_value=chi2.ppf(q=1-alpha, df=df)\n",
    "print('critical_value:', critical_value)\n",
    "p_value=1-chi2.cdf(x=chi_square_statistic, df=df)\n",
    "print('p-value:', p_value)\n",
    "print('Significance level: ', alpha)\n",
    "print('Degree of Freedom: ', df)\n",
    "\n",
    "print('chi-square statistic:',chi_square_statistic)\n",
    "print('critical_value:',critical_value)\n",
    "print('p-value:',p_value)\n",
    "print('')\n",
    "\n",
    "if chi_square_statistic>=critical_value:\n",
    "    print(f'Chi-Square >= Crit Value: \\nYES, there IS a relationship between 2 categorical variables, \"{var1}\" and \"{var2}.\"')\n",
    "else:\n",
    "    print(f'NO, There is NO relationship between 2 categorical variables, \"{var1}\" and \"{var2}.\"')\n",
    "    \n",
    "if p_value<=alpha:\n",
    "    print(f'\\nP-Value <= alpha: \\nYES, there IS a relationship between 2 categorical variables, \"{var1}\" and \"{var2}.\"')\n",
    "else:\n",
    "    print(f'\\nNO, There is NO relationship between 2 categorical variables, \"{var1}\" and \"{var2}.\"')\n"
   ]
  },
  {
   "cell_type": "code",
   "execution_count": 760,
   "metadata": {},
   "outputs": [
    {
     "name": "stdout",
     "output_type": "stream",
     "text": [
      "count    9557.000000\n",
      "mean        0.714555\n",
      "std         0.451650\n",
      "min         0.000000\n",
      "25%         0.000000\n",
      "50%         1.000000\n",
      "75%         1.000000\n",
      "max         1.000000\n",
      "Name: area1, dtype: float64\n",
      "\n",
      "count    9557.000000\n",
      "mean        0.285445\n",
      "std         0.451650\n",
      "min         0.000000\n",
      "25%         0.000000\n",
      "50%         0.000000\n",
      "75%         1.000000\n",
      "max         1.000000\n",
      "Name: area2, dtype: float64\n"
     ]
    },
    {
     "data": {
      "image/png": "[encoded data removed]",
      "text/plain": [
       "<Figure size 1000x500 with 2 Axes>"
      ]
     },
     "metadata": {},
     "output_type": "display_data"
    }
   ],
   "source": [
    "# Investigating area1 and area2\n",
    "\n",
    "print(df_train['area1'].describe())\n",
    "print(\"\")\n",
    "print(df_train['area2'].describe())\n",
    "\n",
    "# Plotting the 'area1' column\n",
    "plt.figure(figsize=(10, 5))\n",
    "plt.subplot(1, 2, 1)\n",
    "sns.barplot(x=df_train['area1'].value_counts().index, y=df_train['area1'].value_counts().values)\n",
    "plt.title(\"Distribution of area1\")\n",
    "plt.xlabel(\"Value\")\n",
    "plt.ylabel(\"Count\")\n",
    "\n",
    "# Plotting the 'area2' column\n",
    "plt.subplot(1, 2, 2)\n",
    "sns.barplot(x=df_train['area2'].value_counts().index, y=df_train['area2'].value_counts().values)\n",
    "plt.title(\"Distribution of area2\")\n",
    "plt.xlabel(\"Value\")\n",
    "plt.ylabel(\"Count\")\n",
    "\n",
    "plt.tight_layout()\n",
    "plt.show()"
   ]
  },
  {
   "cell_type": "code",
   "execution_count": 761,
   "metadata": {},
   "outputs": [
    {
     "name": "stdout",
     "output_type": "stream",
     "text": [
      "Column \"area2\" dropped from both datasets successfully.\n"
     ]
    }
   ],
   "source": [
    "# Our investigations seems to highly support our hypothesis that area1 and area2 are directly inversely correlated.\n",
    "# As such, we will be dropping the \"area2\" column.\n",
    "\n",
    "try:\n",
    "    df_train.drop(['area2'], axis=1, inplace=True)\n",
    "    df_test.drop(['area2'], axis=1, inplace=True)\n",
    "    print(f'Column \"area2\" dropped from both datasets successfully.')\n",
    "except:\n",
    "    print(f'Something went wrong. Column dropping NOT successful.')"
   ]
  },
  {
   "cell_type": "markdown",
   "metadata": {},
   "source": [
    "### 3.3.2 The \"male\" and \"female\" Columns."
   ]
  },
  {
   "cell_type": "code",
   "execution_count": 762,
   "metadata": {},
   "outputs": [
    {
     "name": "stdout",
     "output_type": "stream",
     "text": [
      "Degree of Freedom:- 1\n",
      "critical_value: 3.841458820694124\n",
      "p-value: 0.0\n",
      "Significance level:  0.05\n",
      "Degree of Freedom:  1\n",
      "chi-square statistic: 9552.996013779084\n",
      "critical_value: 3.841458820694124\n",
      "p-value: 0.0\n",
      "\n",
      "Chi-Square >= Crit Value: \n",
      "YES, there IS a relationship between 2 categorical variables, \"male\" and \"female.\"\n",
      "\n",
      "P-Value <= alpha: \n",
      "YES, there IS a relationship between 2 categorical variables, \"male\" and \"female.\"\n"
     ]
    }
   ],
   "source": [
    "# Upon closer inspection, we realize that male and female are probably related.\n",
    "# male = 1 if male\n",
    "# female = 1 if female\n",
    "# Let's check for relationships, and confirm the hypothesis.\n",
    "\n",
    "var1 = \"male\"\n",
    "var2 = \"female\"\n",
    "contingency_tab = pd.crosstab(df_train[var1], df_train[var2])\n",
    "\n",
    "import scipy.stats\n",
    "b = scipy.stats.chi2_contingency(contingency_tab)\n",
    "chi_square_statistic = b[0]  # Directly retrieving the chi-square statistic\n",
    "df = b[2]  # Degrees of freedom\n",
    "print(\"Degree of Freedom:-\", df)\n",
    "\n",
    "alpha=0.05\n",
    "from scipy.stats import chi2\n",
    "critical_value=chi2.ppf(q=1-alpha, df=df)\n",
    "print('critical_value:', critical_value)\n",
    "p_value=1-chi2.cdf(x=chi_square_statistic, df=df)\n",
    "print('p-value:', p_value)\n",
    "print('Significance level: ', alpha)\n",
    "print('Degree of Freedom: ', df)\n",
    "\n",
    "print('chi-square statistic:',chi_square_statistic)\n",
    "print('critical_value:',critical_value)\n",
    "print('p-value:',p_value)\n",
    "print('')\n",
    "\n",
    "if chi_square_statistic>=critical_value:\n",
    "    print(f'Chi-Square >= Crit Value: \\nYES, there IS a relationship between 2 categorical variables, \"{var1}\" and \"{var2}.\"')\n",
    "else:\n",
    "    print(f'NO, There is NO relationship between 2 categorical variables, \"{var1}\" and \"{var2}.\"')\n",
    "    \n",
    "if p_value<=alpha:\n",
    "    print(f'\\nP-Value <= alpha: \\nYES, there IS a relationship between 2 categorical variables, \"{var1}\" and \"{var2}.\"')\n",
    "else:\n",
    "    print(f'\\nNO, There is NO relationship between 2 categorical variables, \"{var1}\" and \"{var2}.\"')\n"
   ]
  },
  {
   "cell_type": "code",
   "execution_count": 763,
   "metadata": {},
   "outputs": [
    {
     "name": "stdout",
     "output_type": "stream",
     "text": [
      "count    9557.000000\n",
      "mean        0.483415\n",
      "std         0.499751\n",
      "min         0.000000\n",
      "25%         0.000000\n",
      "50%         0.000000\n",
      "75%         1.000000\n",
      "max         1.000000\n",
      "Name: male, dtype: float64\n",
      "\n",
      "count    9557.000000\n",
      "mean        0.516585\n",
      "std         0.499751\n",
      "min         0.000000\n",
      "25%         0.000000\n",
      "50%         1.000000\n",
      "75%         1.000000\n",
      "max         1.000000\n",
      "Name: female, dtype: float64\n"
     ]
    },
    {
     "data": {
      "image/png": "[encoded data removed]",
      "text/plain": [
       "<Figure size 1000x500 with 2 Axes>"
      ]
     },
     "metadata": {},
     "output_type": "display_data"
    }
   ],
   "source": [
    "# Investigating male and female\n",
    "\n",
    "print(df_train['male'].describe())\n",
    "print(\"\")\n",
    "print(df_train['female'].describe())\n",
    "\n",
    "# Plotting the 'male' column\n",
    "plt.figure(figsize=(10, 5))\n",
    "plt.subplot(1, 2, 1)\n",
    "sns.barplot(x=df_train['male'].value_counts().index, y=df_train['male'].value_counts().values)\n",
    "plt.title(\"Distribution of male\")\n",
    "plt.xlabel(\"Value\")\n",
    "plt.ylabel(\"Count\")\n",
    "\n",
    "# Plotting the 'female' column\n",
    "plt.subplot(1, 2, 2)\n",
    "sns.barplot(x=df_train['female'].value_counts().index, y=df_train['female'].value_counts().values)\n",
    "plt.title(\"Distribution of female\")\n",
    "plt.xlabel(\"Value\")\n",
    "plt.ylabel(\"Count\")\n",
    "\n",
    "plt.tight_layout()\n",
    "plt.show()"
   ]
  },
  {
   "cell_type": "code",
   "execution_count": 764,
   "metadata": {},
   "outputs": [
    {
     "name": "stdout",
     "output_type": "stream",
     "text": [
      "Column \"female\" dropped from both datasets successfully.\n"
     ]
    }
   ],
   "source": [
    "# Our investigations seems to highly support our hypothesis that male and female are directly inversely correlated.\n",
    "# As such, we will be dropping the \"female\" column.\n",
    "\n",
    "try:\n",
    "    df_train.drop(['female'], axis=1, inplace=True)\n",
    "    df_test.drop(['female'], axis=1, inplace=True)\n",
    "    print(f'Column \"female\" dropped from both datasets successfully.')\n",
    "except:\n",
    "    print(f'Something went wrong. Column dropping NOT successful.')"
   ]
  },
  {
   "cell_type": "markdown",
   "metadata": {},
   "source": [
    "## 3.4 Finding and Fixing \"Non-Numerical Columns\""
   ]
  },
  {
   "cell_type": "code",
   "execution_count": 765,
   "metadata": {},
   "outputs": [
    {
     "name": "stdout",
     "output_type": "stream",
     "text": [
      "<class 'pandas.core.frame.DataFrame'>\n",
      "RangeIndex: 9557 entries, 0 to 9556\n",
      "Columns: 130 entries, v2a1 to Target\n",
      "dtypes: float64(5), int64(121), object(4)\n",
      "memory usage: 9.5+ MB\n",
      "None\n",
      "\n",
      "Integers: \n",
      "Index(['hacdor', 'rooms', 'hacapo', 'v14a', 'refrig', 'v18q', 'r4h1', 'r4h2',\n",
      "       'r4h3', 'r4m1',\n",
      "       ...\n",
      "       'qmobilephone', 'lugar1', 'lugar2', 'lugar3', 'lugar4', 'lugar5',\n",
      "       'lugar6', 'area1', 'age', 'Target'],\n",
      "      dtype='object', length=121)\n",
      "\n",
      "Floats: \n",
      "Index(['v2a1', 'v18q1', 'rez_esc', 'meaneduc', 'overcrowding'], dtype='object')\n",
      "\n",
      "Objects: \n",
      "Index(['idhogar', 'dependency', 'edjefe', 'edjefa'], dtype='object')\n"
     ]
    }
   ],
   "source": [
    "# What kinds of variables are found in the TRAIN dataset?\n",
    "\n",
    "print(df_train.info())\n",
    "\n",
    "print('\\nIntegers: ')\n",
    "print(df_train.select_dtypes(np.int64).columns)\n",
    "\n",
    "print('\\nFloats: ')\n",
    "print(df_train.select_dtypes(np.float64).columns)\n",
    "\n",
    "print('\\nObjects: ')\n",
    "print(df_train.select_dtypes(object).columns)"
   ]
  },
  {
   "cell_type": "code",
   "execution_count": 766,
   "metadata": {},
   "outputs": [
    {
     "name": "stdout",
     "output_type": "stream",
     "text": [
      "idhogar\n",
      "dependency\n",
      "edjefe\n",
      "edjefa\n"
     ]
    },
    {
     "data": {
      "text/html": [
       "<div>\n",
       "<style scoped>\n",
       "    .dataframe tbody tr th:only-of-type {\n",
       "        vertical-align: middle;\n",
       "    }\n",
       "\n",
       "    .dataframe tbody tr th {\n",
       "        vertical-align: top;\n",
       "    }\n",
       "\n",
       "    .dataframe thead th {\n",
       "        text-align: right;\n",
       "    }\n",
       "</style>\n",
       "<table border=\"1\" class=\"dataframe\">\n",
       "  <thead>\n",
       "    <tr style=\"text-align: right;\">\n",
       "      <th></th>\n",
       "      <th>idhogar</th>\n",
       "      <th>dependency</th>\n",
       "      <th>edjefe</th>\n",
       "      <th>edjefa</th>\n",
       "    </tr>\n",
       "  </thead>\n",
       "  <tbody>\n",
       "    <tr>\n",
       "      <th>0</th>\n",
       "      <td>21eb7fcc1</td>\n",
       "      <td>no</td>\n",
       "      <td>10</td>\n",
       "      <td>no</td>\n",
       "    </tr>\n",
       "    <tr>\n",
       "      <th>1</th>\n",
       "      <td>0e5d7a658</td>\n",
       "      <td>8</td>\n",
       "      <td>12</td>\n",
       "      <td>no</td>\n",
       "    </tr>\n",
       "    <tr>\n",
       "      <th>2</th>\n",
       "      <td>2c7317ea8</td>\n",
       "      <td>8</td>\n",
       "      <td>no</td>\n",
       "      <td>11</td>\n",
       "    </tr>\n",
       "    <tr>\n",
       "      <th>3</th>\n",
       "      <td>2b58d945f</td>\n",
       "      <td>yes</td>\n",
       "      <td>11</td>\n",
       "      <td>no</td>\n",
       "    </tr>\n",
       "    <tr>\n",
       "      <th>4</th>\n",
       "      <td>2b58d945f</td>\n",
       "      <td>yes</td>\n",
       "      <td>11</td>\n",
       "      <td>no</td>\n",
       "    </tr>\n",
       "  </tbody>\n",
       "</table>\n",
       "</div>"
      ],
      "text/plain": [
       "     idhogar dependency edjefe edjefa\n",
       "0  21eb7fcc1         no     10     no\n",
       "1  0e5d7a658          8     12     no\n",
       "2  2c7317ea8          8     no     11\n",
       "3  2b58d945f        yes     11     no\n",
       "4  2b58d945f        yes     11     no"
      ]
     },
     "execution_count": 766,
     "metadata": {},
     "output_type": "execute_result"
    }
   ],
   "source": [
    "# From the above, we see that there are 4 \"object\" datatypes.\n",
    "# Since this is machine learning, we will need to convert all of the values of Features into numerical data.\n",
    "# Let's see which of these Features contain non-numerical values.\n",
    "\n",
    "for i in df_train.columns:\n",
    "    a = df_train[i].dtype\n",
    "    if a == 'object':\n",
    "        print(i)\n",
    "\n",
    "df_train.select_dtypes('object').head()"
   ]
  },
  {
   "cell_type": "code",
   "execution_count": 767,
   "metadata": {},
   "outputs": [
    {
     "data": {
      "text/plain": [
       "'\\nLooks like we have to take care of the 4 above Features.\\n'"
      ]
     },
     "execution_count": 767,
     "metadata": {},
     "output_type": "execute_result"
    }
   ],
   "source": [
    "\"\"\"\n",
    "Looks like we have to take care of the 4 above Features.\n",
    "\"\"\""
   ]
  },
  {
   "cell_type": "markdown",
   "metadata": {},
   "source": [
    "### 3.4.1 The \"idhogar\" Column"
   ]
  },
  {
   "cell_type": "code",
   "execution_count": 768,
   "metadata": {},
   "outputs": [
    {
     "data": {
      "text/plain": [
       "fd8a6d014    13\n",
       "ae6cf0558    12\n",
       "0c7436de6    12\n",
       "b7a0b59d7    11\n",
       "4476ccd4c    11\n",
       "             ..\n",
       "9f6b2b309     1\n",
       "75226a178     1\n",
       "1637ac45b     1\n",
       "0194d569d     1\n",
       "21eb7fcc1     1\n",
       "Name: idhogar, Length: 2988, dtype: int64"
      ]
     },
     "execution_count": 768,
     "metadata": {},
     "output_type": "execute_result"
    }
   ],
   "source": [
    "# According to the PDF, idhogar = \"Household level identifier\"\n",
    "# Let's see the values associated with \"idhogar\"\n",
    "\n",
    "df_train['idhogar'].value_counts()"
   ]
  },
  {
   "cell_type": "code",
   "execution_count": 769,
   "metadata": {},
   "outputs": [
    {
     "data": {
      "text/plain": [
       "'\\nThe values contained within idhogar look to be unique ids in which Household members are grouped in, e.g. 13 people belong to family \"fd8a6d014\".\\nFurthermore, in an earlier step, we have identified that idhogar does NOT contain 100% unique values.\\nAs such, we will NOT be removing it.\\n'"
      ]
     },
     "execution_count": 769,
     "metadata": {},
     "output_type": "execute_result"
    }
   ],
   "source": [
    "\"\"\"\n",
    "The values contained within idhogar look to be unique ids in which Household members are grouped in, e.g. 13 people belong to family \"fd8a6d014\".\n",
    "Furthermore, in an earlier step, we have identified that idhogar does NOT contain 100% unique values.\n",
    "As such, we will NOT be removing it.\n",
    "\"\"\""
   ]
  },
  {
   "cell_type": "markdown",
   "metadata": {},
   "source": [
    "### 3.4.2 The \"dependency\" Column"
   ]
  },
  {
   "cell_type": "code",
   "execution_count": 770,
   "metadata": {},
   "outputs": [
    {
     "data": {
      "text/plain": [
       "yes          2192\n",
       "no           1747\n",
       ".5           1497\n",
       "2             730\n",
       "1.5           713\n",
       ".33333334     598\n",
       ".66666669     487\n",
       "8             378\n",
       ".25           260\n",
       "3             236\n",
       "4             100\n",
       ".75            98\n",
       ".2             90\n",
       ".40000001      84\n",
       "1.3333334      84\n",
       "2.5            77\n",
       "5              24\n",
       "1.25           18\n",
       "3.5            18\n",
       ".80000001      18\n",
       "2.25           13\n",
       ".71428573      12\n",
       "1.75           11\n",
       "1.2            11\n",
       ".83333331      11\n",
       ".22222222      11\n",
       ".2857143        9\n",
       "1.6666666       8\n",
       ".60000002       8\n",
       "6               7\n",
       ".16666667       7\n",
       "Name: dependency, dtype: int64"
      ]
     },
     "execution_count": 770,
     "metadata": {},
     "output_type": "execute_result"
    }
   ],
   "source": [
    "# \"dependency\" is described as \"Dependency rate, calculated = (number of members of the household younger than 19 or older than 64)/(number of member of household between 19 and 64)\", thus, should be an important Feature.\n",
    "# Let's see what \"dependency values\" are like.\n",
    "\n",
    "df_train['dependency'].value_counts()"
   ]
  },
  {
   "cell_type": "code",
   "execution_count": 771,
   "metadata": {},
   "outputs": [
    {
     "name": "stdout",
     "output_type": "stream",
     "text": [
      "Converting values in \"dependency\" column in both datasets successful.\n"
     ]
    }
   ],
   "source": [
    "# It seems that survey respondents have responded usually with a \"yes\", or a \"no\", whilst the rest of the responses seem to have been correctly calculated into floats.\n",
    "# As such, we will convert \"no\"s to a value of 0, and \"yes\" into the MEAN of the responses.\n",
    "\n",
    "from sklearn.impute import SimpleImputer\n",
    "\n",
    "# Convert 'yes' to the mean and 'no' to 0 in 'dependency' column for both train and test\n",
    "# In order for the Imputer to work, we must first replace \"yes\"es into NaNs.\n",
    "# At the same time, we also convert \"no\"s to 0s at one shot too.\n",
    "for dataset in [df_train, df_test]:\n",
    "    dataset['dependency'] = dataset['dependency'].replace('yes', 'NaN').replace('no', '0').astype(float)\n",
    "\n",
    "# Create the imputer object with strategy as mean\n",
    "imputer = SimpleImputer(strategy='mean')\n",
    "\n",
    "# Apply the imputer to the 'dependency' column of both datasets\n",
    "try:\n",
    "    df_train['dependency'] = imputer.fit_transform(df_train[['dependency']])\n",
    "    df_test['dependency'] = imputer.transform(df_test[['dependency']])\n",
    "    print('Converting values in \"dependency\" column in both datasets successful.')\n",
    "except:\n",
    "    print('Something went wrong. Converting values in \"dependency\" NOT successful.')"
   ]
  },
  {
   "cell_type": "code",
   "execution_count": 772,
   "metadata": {},
   "outputs": [
    {
     "name": "stdout",
     "output_type": "stream",
     "text": [
      "idhogar\n",
      "edjefe\n",
      "edjefa\n"
     ]
    }
   ],
   "source": [
    "# Since this is machine learning, we will need to convert all of the values of Features into numerical data.\n",
    "# Let's see which non-numerical Features are left.\n",
    "\n",
    "for i in df_train.columns:\n",
    "    a = df_train[i].dtype\n",
    "    if a == 'object':\n",
    "        print(i)"
   ]
  },
  {
   "cell_type": "markdown",
   "metadata": {},
   "source": [
    "### 3.4.3 The \"edjefe\" and \"edjefa\" Columns"
   ]
  },
  {
   "cell_type": "code",
   "execution_count": 773,
   "metadata": {},
   "outputs": [
    {
     "name": "stdout",
     "output_type": "stream",
     "text": [
      "no     3762\n",
      "6      1845\n",
      "11      751\n",
      "9       486\n",
      "3       307\n",
      "15      285\n",
      "8       257\n",
      "7       234\n",
      "5       222\n",
      "14      208\n",
      "17      202\n",
      "2       194\n",
      "4       137\n",
      "16      134\n",
      "yes     123\n",
      "12      113\n",
      "10      111\n",
      "13      103\n",
      "21       43\n",
      "18       19\n",
      "19       14\n",
      "20        7\n",
      "Name: edjefe, dtype: int64\n"
     ]
    }
   ],
   "source": [
    "# According to the PDF, the definitions of edjefe and edjefa are as follows:\n",
    "# 102. edjefe, years of education of male head of household, based on the interaction of escolari (years of education), head of household and gender, yes=1 and no=0\n",
    "# 103. edjefa, years of education of female head of household, based on the interaction of escolari (years of education), head of household and gender, yes=1 and no=0\n",
    "\n",
    "# Let's take a look at the values of both.\n",
    "\n",
    "print(df_train['edjefe'].value_counts())\n"
   ]
  },
  {
   "cell_type": "code",
   "execution_count": 774,
   "metadata": {},
   "outputs": [
    {
     "name": "stdout",
     "output_type": "stream",
     "text": [
      "no     6230\n",
      "6       947\n",
      "11      399\n",
      "9       237\n",
      "8       217\n",
      "15      188\n",
      "7       179\n",
      "5       176\n",
      "3       152\n",
      "4       136\n",
      "14      120\n",
      "16      113\n",
      "10       96\n",
      "2        84\n",
      "17       76\n",
      "12       72\n",
      "yes      69\n",
      "13       52\n",
      "21        5\n",
      "19        4\n",
      "18        3\n",
      "20        2\n",
      "Name: edjefa, dtype: int64\n"
     ]
    }
   ],
   "source": [
    "print(df_train['edjefa'].value_counts())"
   ]
  },
  {
   "cell_type": "code",
   "execution_count": 775,
   "metadata": {},
   "outputs": [
    {
     "name": "stdout",
     "output_type": "stream",
     "text": [
      "Converting values in \"edjefe\" and \"edjefa\" columns in both datasets successful.\n"
     ]
    }
   ],
   "source": [
    "# According to the PDF, the definitions of edjefe and edjefa are as follows:\n",
    "# 102. edjefe, years of education of male head of household, based on the interaction of escolari (years of education), head of household and gender, yes=1 and no=0\n",
    "# 103. edjefa, years of education of female head of household, based on the interaction of escolari (years of education), head of household and gender, yes=1 and no=0\n",
    "\n",
    "# As referenced above, we should be converting all yes'es to \"1\", and all no's to \"0\".\n",
    "\n",
    "# Define the converter function using the calculated MODE\n",
    "# using function name \"converter2\" just to avoid confusion from the previous \"converter1\"; using back converter1 would probably save memory/ resources.\n",
    "# Also note, that we're converting yes'es and no's into INTEGERS, because as the values show, all responses are in INTEGER values.\n",
    "def converter2(i): \n",
    "    if i == 'yes':\n",
    "        return int(1)\n",
    "    elif i == 'no':\n",
    "        return int(0)\n",
    "    else:\n",
    "        return int(i)\n",
    "\n",
    "# Apply the converter function to the 'dependency' column\n",
    "try:\n",
    "    # edjefe\n",
    "    df_train['edjefe'] = df_train['edjefe'].apply(converter2)\n",
    "    df_test['edjefe'] = df_test['edjefe'].apply(converter2)\n",
    "    \n",
    "    # edjefa\n",
    "    df_train['edjefa'] = df_train['edjefa'].apply(converter2)\n",
    "    df_test['edjefa'] = df_test['edjefa'].apply(converter2)\n",
    "    \n",
    "    print('Converting values in \"edjefe\" and \"edjefa\" columns in both datasets successful.')\n",
    "except:\n",
    "    print('Something went wrong. Converting values in \"edjefe\" and \"edjefa\" NOT successful.')"
   ]
  },
  {
   "cell_type": "code",
   "execution_count": 776,
   "metadata": {},
   "outputs": [
    {
     "name": "stdout",
     "output_type": "stream",
     "text": [
      "(Except for \"idhogar\"...)\n",
      "No Features found with datatype=object. \n",
      "All values are now in numerical format.\n"
     ]
    }
   ],
   "source": [
    "# Since this is machine learning, we will need to convert all of the values of Features into numerical data.\n",
    "# Let's see which non-numerical Features are left.\n",
    "\n",
    "object_dtypes_found = False\n",
    "\n",
    "for i in df_train.columns:\n",
    "    if df_train[i].dtype == 'object' and (i != \"idhogar\"):\n",
    "        print(i)\n",
    "        object_dtypes_found = True\n",
    "\n",
    "if not object_dtypes_found:\n",
    "    print('(Except for \"idhogar\"...)\\nNo Features found with datatype=object. \\nAll values are now in numerical format.')\n"
   ]
  },
  {
   "cell_type": "code",
   "execution_count": 777,
   "metadata": {},
   "outputs": [],
   "source": [
    "# We have decided to hold on to \"idhogar\" for the meanwhile, until we're sure that it can be removed safely."
   ]
  },
  {
   "cell_type": "markdown",
   "metadata": {},
   "source": [
    "## 3.5 Null or Missing Values."
   ]
  },
  {
   "cell_type": "code",
   "execution_count": 778,
   "metadata": {},
   "outputs": [
    {
     "name": "stdout",
     "output_type": "stream",
     "text": [
      "Your selected dataframe has 130 columns.\n",
      "There are 4 columns that have missing values.\n"
     ]
    },
    {
     "data": {
      "text/html": [
       "<div>\n",
       "<style scoped>\n",
       "    .dataframe tbody tr th:only-of-type {\n",
       "        vertical-align: middle;\n",
       "    }\n",
       "\n",
       "    .dataframe tbody tr th {\n",
       "        vertical-align: top;\n",
       "    }\n",
       "\n",
       "    .dataframe thead th {\n",
       "        text-align: right;\n",
       "    }\n",
       "</style>\n",
       "<table border=\"1\" class=\"dataframe\">\n",
       "  <thead>\n",
       "    <tr style=\"text-align: right;\">\n",
       "      <th></th>\n",
       "      <th>Missing Values</th>\n",
       "      <th>% of Total Values</th>\n",
       "    </tr>\n",
       "  </thead>\n",
       "  <tbody>\n",
       "    <tr>\n",
       "      <th>rez_esc</th>\n",
       "      <td>7928</td>\n",
       "      <td>83.0</td>\n",
       "    </tr>\n",
       "    <tr>\n",
       "      <th>v18q1</th>\n",
       "      <td>7342</td>\n",
       "      <td>76.8</td>\n",
       "    </tr>\n",
       "    <tr>\n",
       "      <th>v2a1</th>\n",
       "      <td>6860</td>\n",
       "      <td>71.8</td>\n",
       "    </tr>\n",
       "    <tr>\n",
       "      <th>meaneduc</th>\n",
       "      <td>5</td>\n",
       "      <td>0.1</td>\n",
       "    </tr>\n",
       "  </tbody>\n",
       "</table>\n",
       "</div>"
      ],
      "text/plain": [
       "          Missing Values  % of Total Values\n",
       "rez_esc             7928               83.0\n",
       "v18q1               7342               76.8\n",
       "v2a1                6860               71.8\n",
       "meaneduc               5                0.1"
      ]
     },
     "execution_count": 778,
     "metadata": {},
     "output_type": "execute_result"
    }
   ],
   "source": [
    "# Let's now check if there are any Null, NaN, and/ or Missing values.\n",
    "\n",
    "def missing_values_table(df):\n",
    "        # Total missing values\n",
    "        mis_val = df.isnull().sum()\n",
    "        \n",
    "        # Percentage of missing values\n",
    "        mis_val_percent = 100 * df.isnull().sum() / len(df)\n",
    "        \n",
    "        # Make a table with the results\n",
    "        mis_val_table = pd.concat([mis_val, mis_val_percent], axis=1)\n",
    "        \n",
    "        # Rename the columns\n",
    "        mis_val_table_ren_columns = mis_val_table.rename(\n",
    "        columns = {0 : 'Missing Values', 1 : '% of Total Values'})\n",
    "        \n",
    "        # Sort the table by percentage of missing descending\n",
    "        mis_val_table_ren_columns = mis_val_table_ren_columns[\n",
    "            mis_val_table_ren_columns.iloc[:,1] != 0].sort_values(\n",
    "        '% of Total Values', ascending=False).round(1)\n",
    "        \n",
    "        # Print some summary information\n",
    "        print (\"Your selected dataframe has \" + str(df.shape[1]) + \" columns.\\n\"      \n",
    "            \"There are \" + str(mis_val_table_ren_columns.shape[0]) +\n",
    "              \" columns that have missing values.\")\n",
    "        \n",
    "        # Return the dataframe with missing information\n",
    "        return mis_val_table_ren_columns\n",
    "\n",
    "missing_values_table(df_train)"
   ]
  },
  {
   "cell_type": "code",
   "execution_count": 779,
   "metadata": {},
   "outputs": [
    {
     "data": {
      "text/plain": [
       "'\\nFrom the above, we can see that there are 4 Features that contain various amounts of missing values, and needs fixing.\\n'"
      ]
     },
     "execution_count": 779,
     "metadata": {},
     "output_type": "execute_result"
    }
   ],
   "source": [
    "\"\"\"\n",
    "From the above, we can see that there are 4 Features that contain various amounts of missing values, and needs fixing.\n",
    "\"\"\""
   ]
  },
  {
   "cell_type": "markdown",
   "metadata": {},
   "source": [
    "### 3.5.1 The \"meaneduc\" Column"
   ]
  },
  {
   "cell_type": "code",
   "execution_count": 780,
   "metadata": {},
   "outputs": [
    {
     "name": "stdout",
     "output_type": "stream",
     "text": [
      "6.000000     846\n",
      "11.000000    491\n",
      "9.000000     398\n",
      "8.500000     341\n",
      "10.000000    330\n",
      "            ... \n",
      "23.500000      3\n",
      "37.000000      3\n",
      "0.333333       3\n",
      "32.000000      2\n",
      "27.000000      2\n",
      "Name: meaneduc, Length: 155, dtype: int64\n",
      "Number of missing values in 'meaneduc': 5\n"
     ]
    }
   ],
   "source": [
    "# Let's explore \"meaneduc\" first, since it has the least amount of missing values.\n",
    "# meaneduc = average years of education for adults (18+)\n",
    "\n",
    "\"\"\"\n",
    "Column Name: meaneduc\n",
    "Number of Missing Values: 5\n",
    "Percentage of Missing Values: 0.05231767290990897 %\n",
    "\"\"\"\n",
    "\n",
    "print(df_train['meaneduc'].value_counts())\n",
    "\n",
    "missing_values = df_train['meaneduc'].isnull().sum()\n",
    "print(f\"Number of missing values in 'meaneduc': {missing_values}\")"
   ]
  },
  {
   "cell_type": "code",
   "execution_count": 781,
   "metadata": {},
   "outputs": [
    {
     "data": {
      "text/html": [
       "<div>\n",
       "<style scoped>\n",
       "    .dataframe tbody tr th:only-of-type {\n",
       "        vertical-align: middle;\n",
       "    }\n",
       "\n",
       "    .dataframe tbody tr th {\n",
       "        vertical-align: top;\n",
       "    }\n",
       "\n",
       "    .dataframe thead th {\n",
       "        text-align: right;\n",
       "    }\n",
       "</style>\n",
       "<table border=\"1\" class=\"dataframe\">\n",
       "  <thead>\n",
       "    <tr style=\"text-align: right;\">\n",
       "      <th></th>\n",
       "      <th>edjefe</th>\n",
       "      <th>edjefa</th>\n",
       "      <th>instlevel1</th>\n",
       "      <th>instlevel2</th>\n",
       "    </tr>\n",
       "  </thead>\n",
       "  <tbody>\n",
       "    <tr>\n",
       "      <th>count</th>\n",
       "      <td>0.0</td>\n",
       "      <td>0.0</td>\n",
       "      <td>0.0</td>\n",
       "      <td>0.0</td>\n",
       "    </tr>\n",
       "    <tr>\n",
       "      <th>mean</th>\n",
       "      <td>NaN</td>\n",
       "      <td>NaN</td>\n",
       "      <td>NaN</td>\n",
       "      <td>NaN</td>\n",
       "    </tr>\n",
       "    <tr>\n",
       "      <th>std</th>\n",
       "      <td>NaN</td>\n",
       "      <td>NaN</td>\n",
       "      <td>NaN</td>\n",
       "      <td>NaN</td>\n",
       "    </tr>\n",
       "    <tr>\n",
       "      <th>min</th>\n",
       "      <td>NaN</td>\n",
       "      <td>NaN</td>\n",
       "      <td>NaN</td>\n",
       "      <td>NaN</td>\n",
       "    </tr>\n",
       "    <tr>\n",
       "      <th>25%</th>\n",
       "      <td>NaN</td>\n",
       "      <td>NaN</td>\n",
       "      <td>NaN</td>\n",
       "      <td>NaN</td>\n",
       "    </tr>\n",
       "    <tr>\n",
       "      <th>50%</th>\n",
       "      <td>NaN</td>\n",
       "      <td>NaN</td>\n",
       "      <td>NaN</td>\n",
       "      <td>NaN</td>\n",
       "    </tr>\n",
       "    <tr>\n",
       "      <th>75%</th>\n",
       "      <td>NaN</td>\n",
       "      <td>NaN</td>\n",
       "      <td>NaN</td>\n",
       "      <td>NaN</td>\n",
       "    </tr>\n",
       "    <tr>\n",
       "      <th>max</th>\n",
       "      <td>NaN</td>\n",
       "      <td>NaN</td>\n",
       "      <td>NaN</td>\n",
       "      <td>NaN</td>\n",
       "    </tr>\n",
       "  </tbody>\n",
       "</table>\n",
       "</div>"
      ],
      "text/plain": [
       "       edjefe  edjefa  instlevel1  instlevel2\n",
       "count     0.0     0.0         0.0         0.0\n",
       "mean      NaN     NaN         NaN         NaN\n",
       "std       NaN     NaN         NaN         NaN\n",
       "min       NaN     NaN         NaN         NaN\n",
       "25%       NaN     NaN         NaN         NaN\n",
       "50%       NaN     NaN         NaN         NaN\n",
       "75%       NaN     NaN         NaN         NaN\n",
       "max       NaN     NaN         NaN         NaN"
      ]
     },
     "execution_count": 781,
     "metadata": {},
     "output_type": "execute_result"
    }
   ],
   "source": [
    "# Columns related to average years of education for adults (18+):\n",
    "# - edjefe, years of education of male head of household, based on the interaction of escolari (years of education), head of household and gender, yes=1 and no=0\n",
    "# - edjefa, years of education of female head of household, based on the interaction of escolari (years of education), head of household and gender, yes=1 and no=0 \n",
    "# - instlevel1, =1 no level of education\n",
    "# - instlevel2, =1 incomplete primary \n",
    "\n",
    "missing_rows = df_train[df_train['meaneduc'].isnull()].head()\n",
    "investigate = ['edjefe','edjefa','instlevel1','instlevel2']\n",
    "\n",
    "missing_rows[investigate][missing_rows[investigate]['instlevel1'] > 0].describe()"
   ]
  },
  {
   "cell_type": "code",
   "execution_count": 782,
   "metadata": {},
   "outputs": [
    {
     "name": "stdout",
     "output_type": "stream",
     "text": [
      "Converting values in \"meaneduc\" column in both datasets successful.\n",
      "\n",
      " 6.000000     846\n",
      "11.000000    491\n",
      "9.000000     398\n",
      "8.500000     341\n",
      "10.000000    330\n",
      "            ... \n",
      "23.500000      3\n",
      "37.000000      3\n",
      "0.333333       3\n",
      "32.000000      2\n",
      "27.000000      2\n",
      "Name: meaneduc, Length: 155, dtype: int64\n",
      "Number of missing values in 'meaneduc': 0\n"
     ]
    }
   ],
   "source": [
    "# From the above, we find that meaneduc is null when all the values for edjefe, edjefa, instlevel1, and instlevel2 are all 0.\n",
    "# As such, we can fix the 5 missing rows by updating all null values to 0.\n",
    "\n",
    "try:\n",
    "    df_train['meaneduc'].fillna(value=int(0), inplace=True)\n",
    "    df_test['meaneduc'].fillna(value=int(0), inplace=True)\n",
    "    print('Converting values in \"meaneduc\" column in both datasets successful.')\n",
    "except:\n",
    "    print('Something went wrong. Converting values in \"meaneduc\" NOT successful.')\n",
    "    \n",
    "print(\"\\n\", df_train['meaneduc'].value_counts())\n",
    "missing_values = df_train['meaneduc'].isnull().sum()\n",
    "print(f\"Number of missing values in 'meaneduc': {missing_values}\")"
   ]
  },
  {
   "cell_type": "markdown",
   "metadata": {},
   "source": [
    "### 3.5.2 The \"v2a1\" Column"
   ]
  },
  {
   "cell_type": "code",
   "execution_count": 783,
   "metadata": {},
   "outputs": [
    {
     "name": "stdout",
     "output_type": "stream",
     "text": [
      "150000.0    233\n",
      "100000.0    181\n",
      "200000.0    159\n",
      "120000.0    149\n",
      "50000.0     118\n",
      "           ... \n",
      "118097.0      1\n",
      "108000.0      1\n",
      "119813.0      1\n",
      "249896.0      1\n",
      "25310.0       1\n",
      "Name: v2a1, Length: 157, dtype: int64\n",
      "Number of missing values in 'v2a1': 6860\n"
     ]
    }
   ],
   "source": [
    "\"\"\"\n",
    "Column Name: v2a1\n",
    "Number of Missing Values: 6860\n",
    "Percentage of Missing Values: 71.7798472323951 %\n",
    "\"\"\"\n",
    "\n",
    "# v2a1 = Monthly rent payment\n",
    "\n",
    "print(df_train['v2a1'].value_counts())\n",
    "missing_values = df_train['v2a1'].isnull().sum()\n",
    "print(f\"Number of missing values in 'v2a1': {missing_values}\")"
   ]
  },
  {
   "cell_type": "code",
   "execution_count": 784,
   "metadata": {},
   "outputs": [
    {
     "name": "stdout",
     "output_type": "stream",
     "text": [
      "Degree of Freedom:- 156\n",
      "critical_value: 186.14575078141743\n",
      "p-value: 0.0\n",
      "Significance level:  0.05\n",
      "Degree of Freedom:  156\n",
      "chi-square statistic: 1004.7492784813417\n",
      "critical_value: 186.14575078141743\n",
      "p-value: 0.0\n",
      "\n",
      "Chi-Square >= Crit Value: \n",
      "YES, there IS a relationship between 2 categorical variables, \"v2a1\" and \"tipovivi3.\"\n",
      "\n",
      "P-Value <= alpha: \n",
      "YES, there IS a relationship between 2 categorical variables, \"v2a1\" and \"tipovivi3.\"\n"
     ]
    }
   ],
   "source": [
    "# We can either fill the missing values with the MEAN,\n",
    "# or we can fill the missing values with a 0, if the survey responses were accurate in saying that \"missing values\" literally mean \"I'm paying $0 in monthly rents\",\n",
    "# since the person may have:\n",
    "# - already bought the house in full, \n",
    "# - is paying installments on it, \n",
    "# - are living in a borrowed house/ friend's/ relative's/ somewhere else, and so on.\n",
    "\n",
    "# Upon closer inspection, comparing the values in the following columns with v2a1 seems to suggest that the missing values is INDEED highly correlated:\n",
    "# - tipovivi1, =1 own and fully paid house\n",
    "# - tipovivi2, =1 own, paying in installments\n",
    "# - tipovivi3, =1 rented\n",
    "# - tipovivi4, =1 precarious\n",
    "# - tipovivi5, =1 other(assigned, borrowed)\n",
    "\n",
    "# Let's check for correlation, and confirm the hypothesis.\n",
    "\n",
    "var1 = \"v2a1\"\n",
    "var2 = \"tipovivi3\"\n",
    "contingency_tab = pd.crosstab(df_train[var1], df_train[var2])\n",
    "\n",
    "import scipy.stats\n",
    "b = scipy.stats.chi2_contingency(contingency_tab)\n",
    "chi_square_statistic = b[0]  # Directly retrieving the chi-square statistic\n",
    "df = b[2]  # Degrees of freedom\n",
    "print(\"Degree of Freedom:-\", df)\n",
    "\n",
    "alpha=0.05\n",
    "from scipy.stats import chi2\n",
    "critical_value=chi2.ppf(q=1-alpha, df=df)\n",
    "print('critical_value:', critical_value)\n",
    "p_value=1-chi2.cdf(x=chi_square_statistic, df=df)\n",
    "print('p-value:', p_value)\n",
    "print('Significance level: ', alpha)\n",
    "print('Degree of Freedom: ', df)\n",
    "\n",
    "print('chi-square statistic:',chi_square_statistic)\n",
    "print('critical_value:',critical_value)\n",
    "print('p-value:',p_value)\n",
    "print('')\n",
    "\n",
    "if chi_square_statistic>=critical_value:\n",
    "    print(f'Chi-Square >= Crit Value: \\nYES, there IS a relationship between 2 categorical variables, \"{var1}\" and \"{var2}.\"')\n",
    "else:\n",
    "    print(f'NO, There is NO relationship between 2 categorical variables, \"{var1}\" and \"{var2}.\"')\n",
    "    \n",
    "if p_value<=alpha:\n",
    "    print(f'\\nP-Value <= alpha: \\nYES, there IS a relationship between 2 categorical variables, \"{var1}\" and \"{var2}.\"')\n",
    "else:\n",
    "    print(f'\\nNO, There is NO relationship between 2 categorical variables, \"{var1}\" and \"{var2}.\"')"
   ]
  },
  {
   "cell_type": "code",
   "execution_count": 785,
   "metadata": {},
   "outputs": [
    {
     "name": "stdout",
     "output_type": "stream",
     "text": [
      "Column \"v2a1\" updated with new values in both datasets successfully.\n",
      "Column tipovivi3 dropped from both datasets successfully.\n",
      "\n",
      " 0.0         6889\n",
      "150000.0     233\n",
      "100000.0     181\n",
      "200000.0     159\n",
      "120000.0     149\n",
      "            ... \n",
      "118097.0       1\n",
      "108000.0       1\n",
      "119813.0       1\n",
      "249896.0       1\n",
      "25310.0        1\n",
      "Name: v2a1, Length: 157, dtype: int64\n",
      "Number of missing values in 'v2a1': 0\n"
     ]
    }
   ],
   "source": [
    "# From the above, our hypothesis seems to check out.\n",
    "\n",
    "# As such, we will choose to assign missing values to \"0\"s.\n",
    "new_value = float(0)\n",
    "\n",
    "# Fill the missing values in the 'v2a1' column with the new value.\n",
    "try:\n",
    "    df_train['v2a1'].fillna(new_value, inplace=True)\n",
    "    df_test['v2a1'].fillna(new_value, inplace=True)\n",
    "    print(f'Column \"v2a1\" updated with new values in both datasets successfully.')\n",
    "except:\n",
    "    print(f'Something went wrong. Updating values NOT successful.')\n",
    "\n",
    "# We will also drop \"tipovivi3\" as it is equals to \"1 = rented\", which is already represented by v2a1.\n",
    "try:\n",
    "    df_train.drop(['tipovivi3'], axis=1, inplace=True)\n",
    "    df_test.drop(['tipovivi3'], axis=1, inplace=True)\n",
    "    print(f'Column tipovivi3 dropped from both datasets successfully.')\n",
    "except:\n",
    "    print(f'Something went wrong. Column dropping NOT successful.')\n",
    "    \n",
    "# Print the updated 'v2a1' column\n",
    "print(\"\\n\", df_train['v2a1'].value_counts())\n",
    "missing_values = df_train['v2a1'].isnull().sum()\n",
    "print(f\"Number of missing values in 'v2a1': {missing_values}\")"
   ]
  },
  {
   "cell_type": "markdown",
   "metadata": {},
   "source": [
    "### 3.5.3 The \"v18q1\" Column"
   ]
  },
  {
   "cell_type": "code",
   "execution_count": 786,
   "metadata": {},
   "outputs": [
    {
     "name": "stdout",
     "output_type": "stream",
     "text": [
      "1.0    1586\n",
      "2.0     444\n",
      "3.0     129\n",
      "4.0      37\n",
      "5.0      13\n",
      "6.0       6\n",
      "Name: v18q1, dtype: int64\n",
      "Number of missing values in 'v18q1': 7342\n"
     ]
    }
   ],
   "source": [
    "\"\"\"\n",
    "Column Name: v18q1\n",
    "Number of Missing Values: 7342\n",
    "Percentage of Missing Values: 76.82327090091033%\n",
    "\"\"\"\n",
    "\n",
    "# Next we explore \"v18q1\", which has 76.82327090091033% missing values.\n",
    "# v18q1 = number of tablets household owns\n",
    "\n",
    "print(df_train['v18q1'].value_counts())\n",
    "missing_values = df_train['v18q1'].isnull().sum()\n",
    "print(f\"Number of missing values in 'v18q1': {missing_values}\")"
   ]
  },
  {
   "cell_type": "code",
   "execution_count": 787,
   "metadata": {},
   "outputs": [
    {
     "name": "stdout",
     "output_type": "stream",
     "text": [
      "0    7342\n",
      "1    2215\n",
      "Name: v18q, dtype: int64\n",
      "Number of missing values in 'v18q': 0\n"
     ]
    }
   ],
   "source": [
    "# Upon closer inspection, we see that \"v18q\" = \"owns a tablet\", which should be highly correlative to v18q1 (number of tablets household owns).\n",
    "# Let's see what it contains.\n",
    "\n",
    "print(df_train['v18q'].value_counts())\n",
    "missing_values = df_train['v18q'].isnull().sum()\n",
    "print(f\"Number of missing values in 'v18q': {missing_values}\")"
   ]
  },
  {
   "cell_type": "code",
   "execution_count": 788,
   "metadata": {},
   "outputs": [
    {
     "data": {
      "image/png": "[encoded data removed]",
      "text/plain": [
       "<Figure size 1500x500 with 2 Axes>"
      ]
     },
     "metadata": {},
     "output_type": "display_data"
    }
   ],
   "source": [
    "# Temporary handling of missing values\n",
    "df_temp1 = df_train['v18q1'].fillna(value=int(0))\n",
    "\n",
    "# Plotting the 'v18q' column\n",
    "plt.figure(figsize=(15, 5))\n",
    "plt.subplot(1, 2, 1)\n",
    "sns.countplot(x=df_train['v18q'])\n",
    "plt.title(\"v18q: Distribution\")\n",
    "plt.xlabel(\"Owns a tablet (0 = No, 1 = Yes)\")\n",
    "plt.ylabel(\"Count\")\n",
    "\n",
    "# Plotting the 'v18q1' column\n",
    "plt.subplot(1, 2, 2)\n",
    "sns.countplot(x=df_temp1) # Corrected here\n",
    "plt.title(\"v18q1: Number of tablets owned by households\")\n",
    "plt.xlabel(\"Number of Tablets\")\n",
    "plt.ylabel(\"Count\")\n",
    "\n",
    "plt.tight_layout()\n",
    "plt.show()"
   ]
  },
  {
   "cell_type": "code",
   "execution_count": 789,
   "metadata": {},
   "outputs": [
    {
     "data": {
      "image/png": "[encoded data removed]",
      "text/plain": [
       "<Figure size 1000x600 with 1 Axes>"
      ]
     },
     "metadata": {},
     "output_type": "display_data"
    }
   ],
   "source": [
    "# Boxplot\n",
    "plt.figure(figsize=(10, 6))\n",
    "sns.boxplot(x=df_train['v18q'], y=df_temp1) # Corrected here\n",
    "plt.title(\"Distribution of number of tablets across v18q categories\")\n",
    "plt.xlabel(\"Owns a tablet (0 = No, 1 = Yes)\")\n",
    "plt.ylabel(\"Number of Tablets\")\n",
    "plt.show()"
   ]
  },
  {
   "cell_type": "code",
   "execution_count": 790,
   "metadata": {},
   "outputs": [
    {
     "name": "stdout",
     "output_type": "stream",
     "text": [
      "Column v18q dropped from both datasets successfully.\n",
      "Values converted in v18q1 in both datasets successfully.\n",
      "\n",
      "v18q1 values:\n",
      "0.0    7342\n",
      "1.0    1586\n",
      "2.0     444\n",
      "3.0     129\n",
      "4.0      37\n",
      "5.0      13\n",
      "6.0       6\n",
      "Name: v18q1, dtype: int64\n",
      "Number of missing values in 'v18q1': 0\n"
     ]
    }
   ],
   "source": [
    "# Our hypothesis seems to be highly supported by the above graphs.\n",
    "# As such, we will DROP v18q,\n",
    "# and convert all the missing values in v18q1 into a 0.\n",
    "\n",
    "try:\n",
    "    df_train.drop(['v18q'], axis=1, inplace=True)\n",
    "    df_test.drop(['v18q'], axis=1, inplace=True)\n",
    "    print(f'Column v18q dropped from both datasets successfully.')\n",
    "except:\n",
    "    print(f'Something went wrong. Column dropping NOT successful.')\n",
    "\n",
    "# Fill the missing values in the 'v18q1' column with the new value.\n",
    "new_value = int(0)\n",
    "\n",
    "try:\n",
    "    df_train['v18q1'].fillna(new_value, inplace=True)\n",
    "    df_test['v18q1'].fillna(new_value, inplace=True)\n",
    "    print(f'Values converted in v18q1 in both datasets successfully.')\n",
    "except:\n",
    "    print(f'Something went wrong. Converting values NOT successful.')\n",
    "\n",
    "# Print the updated 'v18q1' column\n",
    "print(f'\\nv18q1 values:')\n",
    "print(df_train['v18q1'].value_counts())\n",
    "missing_values = df_train['v18q1'].isnull().sum()\n",
    "print(f\"Number of missing values in 'v18q1': {missing_values}\")"
   ]
  },
  {
   "cell_type": "markdown",
   "metadata": {},
   "source": [
    "### 3.5.4 The \"rez_esc\" Column."
   ]
  },
  {
   "cell_type": "code",
   "execution_count": 791,
   "metadata": {},
   "outputs": [
    {
     "name": "stdout",
     "output_type": "stream",
     "text": [
      "0.0    1211\n",
      "1.0     227\n",
      "2.0      98\n",
      "3.0      55\n",
      "4.0      29\n",
      "5.0       9\n",
      "Name: rez_esc, dtype: int64\n",
      "Number of missing values in 'rez_esc': 7928\n"
     ]
    }
   ],
   "source": [
    "\"\"\"\n",
    "Column Name: rez_esc\n",
    "Number of Missing Values: 7928\n",
    "Percentage of Missing Values: 82.95490216595167%\n",
    "\"\"\"\n",
    "\n",
    "# Next we explore \"rez_esc\".\n",
    "# rez_esc = Years behind in school\n",
    "\n",
    "print(df_train['rez_esc'].value_counts())\n",
    "missing_values = df_train['rez_esc'].isnull().sum()\n",
    "print(f\"Number of missing values in 'rez_esc': {missing_values}\")"
   ]
  },
  {
   "cell_type": "code",
   "execution_count": 792,
   "metadata": {},
   "outputs": [
    {
     "data": {
      "text/plain": [
       "count    1629.000000\n",
       "mean       12.258441\n",
       "std         3.218325\n",
       "min         7.000000\n",
       "25%         9.000000\n",
       "50%        12.000000\n",
       "75%        15.000000\n",
       "max        17.000000\n",
       "Name: age, dtype: float64"
      ]
     },
     "execution_count": 792,
     "metadata": {},
     "output_type": "execute_result"
    }
   ],
   "source": [
    "# we immediately formed a hypothesis TBD!!!!!!\n",
    "# Lets look at the data with not null values first.\n",
    "df_train[df_train['rez_esc'].notnull()]['age'].describe()"
   ]
  },
  {
   "cell_type": "code",
   "execution_count": 793,
   "metadata": {},
   "outputs": [
    {
     "data": {
      "text/plain": [
       "count    7928.000000\n",
       "mean       38.833249\n",
       "std        20.989486\n",
       "min         0.000000\n",
       "25%        24.000000\n",
       "50%        38.000000\n",
       "75%        54.000000\n",
       "max        97.000000\n",
       "Name: age, dtype: float64"
      ]
     },
     "execution_count": 793,
     "metadata": {},
     "output_type": "execute_result"
    }
   ],
   "source": [
    "# From the above, we can see that the not-null values in rez_esc come from people ages 7 - 17 years old, which makes sense, as this is the schooling age.\n",
    "# Let's see if this hypothesis is credible, by checking what the is-null values are for \"age\".\n",
    "\n",
    "df_train[df_train['rez_esc'].isnull()]['age'].describe()"
   ]
  },
  {
   "cell_type": "code",
   "execution_count": 794,
   "metadata": {},
   "outputs": [
    {
     "data": {
      "text/plain": [
       "count     1.0\n",
       "mean     10.0\n",
       "std       NaN\n",
       "min      10.0\n",
       "25%      10.0\n",
       "50%      10.0\n",
       "75%      10.0\n",
       "max      10.0\n",
       "Name: age, dtype: float64"
      ]
     },
     "execution_count": 794,
     "metadata": {},
     "output_type": "execute_result"
    }
   ],
   "source": [
    "# From the above, we can deduce that the hypothesis is highly credible:\n",
    "# - replies with null values are of the average of of 38 (24 - 97 years old),\n",
    "# - not-null responses are of the average age of 12 (7 - 17 years old.)\n",
    "\n",
    "# Let's look deeper, to confirm this hypothesis.\n",
    "df_train.loc[\n",
    "    (df_train['rez_esc'].isnull() & ((df_train['age'] > 7) & (df_train['age'] < 17)))]['age'].describe()\n"
   ]
  },
  {
   "cell_type": "code",
   "execution_count": 795,
   "metadata": {},
   "outputs": [
    {
     "name": "stdout",
     "output_type": "stream",
     "text": [
      "Updating values of \"rez_esc\" in both datasets successful.\n",
      "\n",
      "rez_esc values:\n",
      "0.0    9139\n",
      "1.0     227\n",
      "2.0      98\n",
      "3.0      55\n",
      "4.0      29\n",
      "5.0       9\n",
      "Name: rez_esc, dtype: int64\n",
      "Number of missing values in 'rez_esc': 0\n"
     ]
    }
   ],
   "source": [
    "# Indeed, almost all replies within the ages of 7-17 are not-nulls, except for 1.\n",
    "# As such, it is safe and logical to replace all null values with a \"0\".\n",
    "\n",
    "try:\n",
    "    df_train['rez_esc'].fillna(value=int(0), inplace=True)\n",
    "    df_test['rez_esc'].fillna(value=int(0), inplace=True)\n",
    "    print('Updating values of \"rez_esc\" in both datasets successful.')\n",
    "except:\n",
    "    print('Something went wrong. Updating values NOT successful.')\n",
    "\n",
    "# Print the updated 'rez_esc' column\n",
    "print(f'\\nrez_esc values:')\n",
    "print(df_train['rez_esc'].value_counts())\n",
    "missing_values = df_train['rez_esc'].isnull().sum()\n",
    "print(f\"Number of missing values in 'rez_esc': {missing_values}\")"
   ]
  },
  {
   "cell_type": "markdown",
   "metadata": {},
   "source": [
    "### 3.5.5 Final Check for Missing Values"
   ]
  },
  {
   "cell_type": "code",
   "execution_count": 796,
   "metadata": {},
   "outputs": [
    {
     "name": "stdout",
     "output_type": "stream",
     "text": [
      "Congratulations! There are 0 remaining columns with missing values.\n"
     ]
    }
   ],
   "source": [
    "# Let's now check if there are any Null, NaN, and/ or Missing values *remaining*.\n",
    "\n",
    "null_counts = df_train.isnull().sum() # Get the count of missing values for all columns\n",
    "total_values = len(df_train) # Total number of rows\n",
    "missing_info = [] # List to hold information about missing values\n",
    "\n",
    "for column_name, null_count in null_counts.items():\n",
    "    percentage_missing = (null_count / total_values) * 100\n",
    "    if null_count > 0: # If there are missing values in the column\n",
    "        missing_info.append({\n",
    "            'Column Name': column_name,\n",
    "            'Number of Missing Values': null_count,\n",
    "            'Percentage of Missing Values': percentage_missing\n",
    "        })\n",
    "\n",
    "# Display the information\n",
    "if missing_info:\n",
    "    for info in missing_info:\n",
    "        print(f\"Column Name: {info['Column Name']}\")\n",
    "        print(f\"Number of Missing Values: {info['Number of Missing Values']}\")\n",
    "        print(f\"Percentage of Missing Values: {info['Percentage of Missing Values']} %\\n\")\n",
    "else:\n",
    "    print(f'Congratulations! There are 0 remaining columns with missing values.')\n"
   ]
  },
  {
   "cell_type": "markdown",
   "metadata": {},
   "source": [
    "## 3.6 Exploring Data re: Poverty Levels (\"Target\")"
   ]
  },
  {
   "cell_type": "markdown",
   "metadata": {},
   "source": [
    "### 3.6.1 Households with no \"Head\""
   ]
  },
  {
   "cell_type": "code",
   "execution_count": 797,
   "metadata": {},
   "outputs": [
    {
     "name": "stdout",
     "output_type": "stream",
     "text": [
      "There are 15 households without a \"Head of Household\".\n"
     ]
    }
   ],
   "source": [
    "# Lets use Target value of the parent record (head of the household) and update rest. But before that lets check\n",
    "# if all families has a head. \n",
    "\n",
    "households_head = df_train.groupby('idhogar')['parentesco1'].sum()\n",
    "\n",
    "# Find households without a head\n",
    "households_no_head = df_train.loc[df_train['idhogar'].isin(households_head[households_head == 0].index), :]\n",
    "\n",
    "print(f'There are {households_no_head[\"idhogar\"].nunique()} households without a \"Head of Household\".')"
   ]
  },
  {
   "cell_type": "code",
   "execution_count": 798,
   "metadata": {},
   "outputs": [
    {
     "name": "stdout",
     "output_type": "stream",
     "text": [
      "There are 0 households with no \"Head\", where the family members have mismatched values for \"Target\".\n"
     ]
    }
   ],
   "source": [
    "# Find households without a head and where Target value are different\n",
    "households_no_head_matching = households_no_head.groupby('idhogar')['Target'].apply(lambda x: x.nunique() == 1)\n",
    "print(f'There are {sum(households_no_head_matching == False)} households with no \"Head\", where the family members have mismatched values for \"Target\".')"
   ]
  },
  {
   "cell_type": "markdown",
   "metadata": {},
   "source": [
    "### 3.6.2 Mismatched \"Target\" Values"
   ]
  },
  {
   "cell_type": "code",
   "execution_count": 799,
   "metadata": {},
   "outputs": [
    {
     "name": "stdout",
     "output_type": "stream",
     "text": [
      "There are 85 normal households, where the family members have mismatched values for \"Target\".\n"
     ]
    }
   ],
   "source": [
    "# Find households which all members have 1 singular unique value for \"Target\", i.e. NOT mismatched.\n",
    "matching = df_train.groupby('idhogar')['Target'].apply(lambda x: x.nunique() == 1)\n",
    "\n",
    "# Find households where \"Target\" values are mismatched.\n",
    "mismatches = matching[matching != True]\n",
    "print(f'There are {len(mismatches)} normal households, where the family members have mismatched values for \"Target\".')"
   ]
  },
  {
   "cell_type": "code",
   "execution_count": 800,
   "metadata": {},
   "outputs": [
    {
     "data": {
      "text/html": [
       "<div>\n",
       "<style scoped>\n",
       "    .dataframe tbody tr th:only-of-type {\n",
       "        vertical-align: middle;\n",
       "    }\n",
       "\n",
       "    .dataframe tbody tr th {\n",
       "        vertical-align: top;\n",
       "    }\n",
       "\n",
       "    .dataframe thead th {\n",
       "        text-align: right;\n",
       "    }\n",
       "</style>\n",
       "<table border=\"1\" class=\"dataframe\">\n",
       "  <thead>\n",
       "    <tr style=\"text-align: right;\">\n",
       "      <th></th>\n",
       "      <th>idhogar</th>\n",
       "      <th>parentesco1</th>\n",
       "      <th>Target</th>\n",
       "    </tr>\n",
       "  </thead>\n",
       "  <tbody>\n",
       "    <tr>\n",
       "      <th>7651</th>\n",
       "      <td>0172ab1d9</td>\n",
       "      <td>0</td>\n",
       "      <td>3</td>\n",
       "    </tr>\n",
       "    <tr>\n",
       "      <th>7652</th>\n",
       "      <td>0172ab1d9</td>\n",
       "      <td>0</td>\n",
       "      <td>2</td>\n",
       "    </tr>\n",
       "    <tr>\n",
       "      <th>7653</th>\n",
       "      <td>0172ab1d9</td>\n",
       "      <td>0</td>\n",
       "      <td>3</td>\n",
       "    </tr>\n",
       "    <tr>\n",
       "      <th>7654</th>\n",
       "      <td>0172ab1d9</td>\n",
       "      <td>1</td>\n",
       "      <td>3</td>\n",
       "    </tr>\n",
       "    <tr>\n",
       "      <th>7655</th>\n",
       "      <td>0172ab1d9</td>\n",
       "      <td>0</td>\n",
       "      <td>2</td>\n",
       "    </tr>\n",
       "  </tbody>\n",
       "</table>\n",
       "</div>"
      ],
      "text/plain": [
       "        idhogar  parentesco1  Target\n",
       "7651  0172ab1d9            0       3\n",
       "7652  0172ab1d9            0       2\n",
       "7653  0172ab1d9            0       3\n",
       "7654  0172ab1d9            1       3\n",
       "7655  0172ab1d9            0       2"
      ]
     },
     "execution_count": 800,
     "metadata": {},
     "output_type": "execute_result"
    }
   ],
   "source": [
    "# Lets see what the data looks like for one of these \"Mismatched Targets\" households.\n",
    "df_train[df_train['idhogar'] == mismatches.index[0]][['idhogar', 'parentesco1', 'Target']]"
   ]
  },
  {
   "cell_type": "code",
   "execution_count": 801,
   "metadata": {},
   "outputs": [
    {
     "data": {
      "text/plain": [
       "'\\nFrom the above, we can see how some (3) of the family members have \"Target\" values of \"3\", and some (2) of them have \"2\", thus a mismatch.\\nThis is what we\\'re trying to fix.\\n'"
      ]
     },
     "execution_count": 801,
     "metadata": {},
     "output_type": "execute_result"
    }
   ],
   "source": [
    "\"\"\"\n",
    "From the above, we can see how some (3) of the family members have \"Target\" values of \"3\", and some (2) of them have \"2\", thus a mismatch.\n",
    "This is what we're trying to fix.\n",
    "\"\"\""
   ]
  },
  {
   "cell_type": "markdown",
   "metadata": {},
   "source": [
    "### 3.6.3 Fixing Mismatched \"Target\" Values"
   ]
  },
  {
   "cell_type": "code",
   "execution_count": 802,
   "metadata": {},
   "outputs": [
    {
     "name": "stdout",
     "output_type": "stream",
     "text": [
      "Data has been fixed.\n",
      "        idhogar  parentesco1  Target\n",
      "7472  001ff74ca            1       4\n",
      "7471  001ff74ca            0       4\n",
      "8159  003123ec2            0       2\n",
      "8160  003123ec2            1       2\n",
      "8161  003123ec2            0       2\n",
      "8162  003123ec2            0       2\n",
      "6472  004616164            1       2\n",
      "6473  004616164            0       2\n",
      "6606  004983866            1       3\n",
      "6607  004983866            0       3\n",
      "7792  005905417            0       2\n",
      "7791  005905417            0       2\n",
      "7790  005905417            1       2\n",
      "3778  006031de3            0       4\n",
      "3775  006031de3            1       4\n",
      "3776  006031de3            0       4\n",
      "3777  006031de3            0       4\n",
      "2981  006555fe2            1       4\n",
      "2977  006555fe2            0       4\n",
      "2979  006555fe2            0       4\n",
      "2978  006555fe2            0       4\n",
      "2980  006555fe2            0       4\n",
      "4706  00693f597            0       4\n",
      "4708  00693f597            0       4\n",
      "4709  00693f597            0       4\n",
      "4707  00693f597            1       4\n",
      "7208  006b64543            0       4\n",
      "7209  006b64543            1       4\n",
      "7144  00941f1f4            0       1\n",
      "7145  00941f1f4            0       1\n"
     ]
    }
   ],
   "source": [
    "# Fixing the Poverty Level (Target) of each family member to match.\n",
    "\n",
    "# Iterate through each household\n",
    "for household in mismatches.index:\n",
    "    # Find the correct label (for the head of household)\n",
    "    correct_value = int(df_train[(df_train['idhogar'] == household) & (df_train['parentesco1'] == 1.0)]['Target'])\n",
    "    \n",
    "    # Set the correct label for all members in the household\n",
    "    df_train.loc[df_train['idhogar'] == household, 'Target'] = correct_value\n",
    "print(f'Data has been fixed.')    \n",
    "\n",
    "# Let's double-check to see if indeed, the data has been fixed.\n",
    "filtered_df = df_train.sort_values('idhogar')[['idhogar', 'parentesco1', 'Target']].head(30)\n",
    "print(filtered_df)"
   ]
  },
  {
   "cell_type": "code",
   "execution_count": 803,
   "metadata": {},
   "outputs": [
    {
     "name": "stdout",
     "output_type": "stream",
     "text": [
      "There are now 0 households where the family members have mismatched values for \"Target\".\n",
      "*Note: Only values in \"df_train\" has been fixed, since \"df_test\" does NOT contain the \"Target\" column.\n"
     ]
    }
   ],
   "source": [
    "# From the above, we can rest-assured that indeed, the data has been fixed.\n",
    "\n",
    "# Groupby the household and figure out the number of unique values\n",
    "matching = df_train.groupby('idhogar')['Target'].apply(lambda x: x.nunique() == 1)\n",
    "\n",
    "# Households where targets are not all equal\n",
    "mismatches = matching[matching != True]\n",
    "\n",
    "print(f'There are now {len(mismatches)} households where the family members have mismatched values for \"Target\".')\n",
    "print('*Note: Only values in \"df_train\" has been fixed, since \"df_test\" does NOT contain the \"Target\" column.')\n"
   ]
  },
  {
   "cell_type": "markdown",
   "metadata": {},
   "source": [
    "### 3.6.4 Overview of Poverty Levels"
   ]
  },
  {
   "cell_type": "code",
   "execution_count": 804,
   "metadata": {},
   "outputs": [
    {
     "name": "stdout",
     "output_type": "stream",
     "text": [
      "(2668, 128)\n",
      "(6385, 127)\n"
     ]
    }
   ],
   "source": [
    "Poverty_level1 = df_train[df_train['v2a1'] !=0]\n",
    "Poverty_level2 = df_test[df_test['v2a1'] !=0]\n",
    "print(Poverty_level1.shape)\n",
    "print(Poverty_level2.shape)"
   ]
  },
  {
   "cell_type": "code",
   "execution_count": 805,
   "metadata": {},
   "outputs": [
    {
     "name": "stdout",
     "output_type": "stream",
     "text": [
      "df_train:\n",
      " area1\n",
      "0     80000.0\n",
      "1    140000.0\n",
      "Name: v2a1, dtype: float64\n",
      "\n",
      "df_test:\n",
      " area1\n",
      "0     80000.0\n",
      "1    140000.0\n",
      "Name: v2a1, dtype: float64\n"
     ]
    }
   ],
   "source": [
    "poverty_level1 = Poverty_level1.groupby('area1')['v2a1'].apply(np.median)\n",
    "poverty_level2 = Poverty_level1.groupby('area1')['v2a1'].apply(np.median)\n",
    "\n",
    "print(\"df_train:\\n\", poverty_level1)\n",
    "print(\"\\ndf_test:\\n\", poverty_level2)"
   ]
  },
  {
   "cell_type": "code",
   "execution_count": 806,
   "metadata": {},
   "outputs": [],
   "source": [
    "# For Rural area, if rent less than 8000, is below poverty level.\n",
    "# For Urban area, if rent less than 140000, is below poverty level.\n",
    "\n",
    "def p_level(x):\n",
    "    if x < 8000:\n",
    "        return('Below poverty.')    \n",
    "    elif x > 140000:\n",
    "        return('Above poverty.')\n",
    "    elif x < 140000:\n",
    "        return('If Urban: Below poverty. If Rural: Above poverty.')"
   ]
  },
  {
   "cell_type": "code",
   "execution_count": 807,
   "metadata": {},
   "outputs": [
    {
     "name": "stdout",
     "output_type": "stream",
     "text": [
      "df_train:\n",
      " (2668,)\n",
      "\n",
      "df_test:\n",
      " (6385,)\n"
     ]
    }
   ],
   "source": [
    "c1 = Poverty_level1['v2a1'].apply(p_level)\n",
    "c2 = Poverty_level2['v2a1'].apply(p_level)\n",
    "\n",
    "print(\"df_train:\\n\", c1.shape)\n",
    "print(\"\\ndf_test:\\n\", c2.shape)"
   ]
  },
  {
   "cell_type": "code",
   "execution_count": 808,
   "metadata": {},
   "outputs": [
    {
     "data": {
      "text/html": [
       "<div>\n",
       "<style scoped>\n",
       "    .dataframe tbody tr th:only-of-type {\n",
       "        vertical-align: middle;\n",
       "    }\n",
       "\n",
       "    .dataframe tbody tr th {\n",
       "        vertical-align: top;\n",
       "    }\n",
       "\n",
       "    .dataframe thead th {\n",
       "        text-align: right;\n",
       "    }\n",
       "</style>\n",
       "<table border=\"1\" class=\"dataframe\">\n",
       "  <thead>\n",
       "    <tr style=\"text-align: right;\">\n",
       "      <th>area1</th>\n",
       "      <th>0</th>\n",
       "      <th>1</th>\n",
       "    </tr>\n",
       "    <tr>\n",
       "      <th>v2a1</th>\n",
       "      <th></th>\n",
       "      <th></th>\n",
       "    </tr>\n",
       "  </thead>\n",
       "  <tbody>\n",
       "    <tr>\n",
       "      <th>Above poverty.</th>\n",
       "      <td>139</td>\n",
       "      <td>1103</td>\n",
       "    </tr>\n",
       "    <tr>\n",
       "      <th>If Urban: Below poverty. If Rural: Above poverty.</th>\n",
       "      <td>306</td>\n",
       "      <td>1081</td>\n",
       "    </tr>\n",
       "  </tbody>\n",
       "</table>\n",
       "</div>"
      ],
      "text/plain": [
       "area1                                                0     1\n",
       "v2a1                                                        \n",
       "Above poverty.                                     139  1103\n",
       "If Urban: Below poverty. If Rural: Above poverty.  306  1081"
      ]
     },
     "execution_count": 808,
     "metadata": {},
     "output_type": "execute_result"
    }
   ],
   "source": [
    "pd.crosstab(c1, Poverty_level1['area1'])"
   ]
  },
  {
   "cell_type": "code",
   "execution_count": 809,
   "metadata": {},
   "outputs": [
    {
     "data": {
      "text/html": [
       "<div>\n",
       "<style scoped>\n",
       "    .dataframe tbody tr th:only-of-type {\n",
       "        vertical-align: middle;\n",
       "    }\n",
       "\n",
       "    .dataframe tbody tr th {\n",
       "        vertical-align: top;\n",
       "    }\n",
       "\n",
       "    .dataframe thead th {\n",
       "        text-align: right;\n",
       "    }\n",
       "</style>\n",
       "<table border=\"1\" class=\"dataframe\">\n",
       "  <thead>\n",
       "    <tr style=\"text-align: right;\">\n",
       "      <th>area1</th>\n",
       "      <th>0</th>\n",
       "      <th>1</th>\n",
       "    </tr>\n",
       "    <tr>\n",
       "      <th>v2a1</th>\n",
       "      <th></th>\n",
       "      <th></th>\n",
       "    </tr>\n",
       "  </thead>\n",
       "  <tbody>\n",
       "    <tr>\n",
       "      <th>Above poverty.</th>\n",
       "      <td>172</td>\n",
       "      <td>2969</td>\n",
       "    </tr>\n",
       "    <tr>\n",
       "      <th>If Urban: Below poverty. If Rural: Above poverty.</th>\n",
       "      <td>726</td>\n",
       "      <td>2415</td>\n",
       "    </tr>\n",
       "  </tbody>\n",
       "</table>\n",
       "</div>"
      ],
      "text/plain": [
       "area1                                                0     1\n",
       "v2a1                                                        \n",
       "Above poverty.                                     172  2969\n",
       "If Urban: Below poverty. If Rural: Above poverty.  726  2415"
      ]
     },
     "execution_count": 809,
     "metadata": {},
     "output_type": "execute_result"
    }
   ],
   "source": [
    "pd.crosstab(c2, Poverty_level2['area1'])"
   ]
  },
  {
   "cell_type": "code",
   "execution_count": 810,
   "metadata": {},
   "outputs": [
    {
     "data": {
      "text/plain": [
       "'\\ndf_train:\\nThere are 139 + 1103 = 1242 people above poverty level, regardless of Rural or Urban.\\nThe rest:\\n    Rural:\\n        Above poverty level = 139+306 = 445\\n    Urban:\\n        Above poverty level = 1103\\n        Below poverty level = 1081\\n\\ndf_test:\\nThere are 172 + 2969 = 3141 people above poverty level, regardless of Rural or Urban.\\nThe rest:\\n    Rural:\\n        Above poverty level = 172+726 = 898\\n    Urban:\\n        Above poverty level = 2969\\n        Below poverty level = 2415\\n'"
      ]
     },
     "execution_count": 810,
     "metadata": {},
     "output_type": "execute_result"
    }
   ],
   "source": [
    "\"\"\"\n",
    "df_train:\n",
    "There are 139 + 1103 = 1242 people above poverty level, regardless of Rural or Urban.\n",
    "The rest:\n",
    "    Rural:\n",
    "        Above poverty level = 139+306 = 445\n",
    "    Urban:\n",
    "        Above poverty level = 1103\n",
    "        Below poverty level = 1081\n",
    "\n",
    "df_test:\n",
    "There are 172 + 2969 = 3141 people above poverty level, regardless of Rural or Urban.\n",
    "The rest:\n",
    "    Rural:\n",
    "        Above poverty level = 172+726 = 898\n",
    "    Urban:\n",
    "        Above poverty level = 2969\n",
    "        Below poverty level = 2415\n",
    "\"\"\""
   ]
  },
  {
   "cell_type": "markdown",
   "metadata": {},
   "source": [
    "## 3.7 Checking for Redundant Features"
   ]
  },
  {
   "cell_type": "markdown",
   "metadata": {},
   "source": [
    "### 3.7.1 Logically Grouping Features by Datatype"
   ]
  },
  {
   "cell_type": "code",
   "execution_count": 811,
   "metadata": {},
   "outputs": [
    {
     "name": "stdout",
     "output_type": "stream",
     "text": [
      "We are now working with a dataframe with the following dimensions: (2973, 94)\n"
     ]
    }
   ],
   "source": [
    "# Ordering Features by datatype\n",
    "\n",
    "id_ = ['idhogar', 'Target']\n",
    "\n",
    "ind_bool = ['dis', 'male', 'estadocivil1', 'estadocivil2', 'estadocivil3', \n",
    "            'estadocivil4', 'estadocivil5', 'estadocivil6', 'estadocivil7', \n",
    "            'parentesco1', 'parentesco2',  'parentesco3', 'parentesco4', 'parentesco5', \n",
    "            'parentesco6', 'parentesco7', 'parentesco8',  'parentesco9', 'parentesco10', \n",
    "            'parentesco11', 'parentesco12', 'instlevel1', 'instlevel2', 'instlevel3', \n",
    "            'instlevel4', 'instlevel5', 'instlevel6', 'instlevel7', 'instlevel8', \n",
    "            'instlevel9', 'mobilephone']\n",
    "\n",
    "ind_ordered = ['rez_esc', 'escolari', 'age']\n",
    "\n",
    "hh_bool = ['hacdor', 'hacapo', 'v14a', 'refrig', 'paredblolad', 'paredzocalo', \n",
    "           'paredpreb','pisocemento', 'pareddes', 'paredmad',\n",
    "           'paredzinc', 'paredfibras', 'paredother', 'pisomoscer', 'pisoother', \n",
    "           'pisonatur', 'pisonotiene', 'pisomadera',\n",
    "           'techozinc', 'techoentrepiso', 'techocane', 'techootro', 'cielorazo', \n",
    "           'abastaguadentro', 'abastaguafuera', 'abastaguano',\n",
    "            'public', 'planpri', 'noelec', 'coopele', 'sanitario1', \n",
    "           'sanitario2', 'sanitario3', 'sanitario5',   'sanitario6',\n",
    "           'energcocinar1', 'energcocinar2', 'energcocinar3', 'energcocinar4', \n",
    "           'elimbasu1', 'elimbasu2', 'elimbasu3', 'elimbasu4', \n",
    "           'elimbasu6', 'epared1', 'epared2', 'epared3',\n",
    "           'etecho1', 'etecho2', 'etecho3', 'eviv1', 'eviv2', 'eviv3', \n",
    "           'tipovivi1', 'tipovivi2', 'tipovivi4', 'tipovivi5', \n",
    "           'computer', 'television', 'lugar1', 'lugar2', 'lugar3',\n",
    "           'lugar4', 'lugar5', 'lugar6', 'area1']\n",
    "\n",
    "hh_ordered = [ 'rooms', 'r4h1', 'r4h2', 'r4h3', 'r4m1','r4m2','r4m3', 'r4t1',  'r4t2', \n",
    "              'r4t3', 'v18q1', 'tamhog','tamviv','hhsize','hogar_nin',\n",
    "              'hogar_adul','hogar_mayor','hogar_total',  'bedrooms', 'qmobilephone']\n",
    "\n",
    "hh_cont = ['v2a1', 'dependency', 'edjefe', 'edjefa', 'meaneduc', 'overcrowding']\n",
    "\n",
    "# please remember that we have dropped several columns already previously, such as id, area2, elimbasu5, v18q, and so on.\n",
    "\n",
    "households_w_heads = df_train.loc[df_train['parentesco1'] == 1, :]\n",
    "households_w_heads = households_w_heads[id_ + hh_bool + hh_cont + hh_ordered]\n",
    "print(f\"We are now working with a dataframe with the following dimensions: {households_w_heads.shape}\")"
   ]
  },
  {
   "cell_type": "markdown",
   "metadata": {},
   "source": [
    "### 3.7.2 Redundant HH (household) Features"
   ]
  },
  {
   "cell_type": "code",
   "execution_count": 812,
   "metadata": {},
   "outputs": [
    {
     "name": "stdout",
     "output_type": "stream",
     "text": [
      "The following are Features that are highly correlated and should be considered for dropping:\n",
      "['coopele', 'tamhog', 'hhsize', 'hogar_total']\n"
     ]
    }
   ],
   "source": [
    "# Create correlation matrix\n",
    "# Explicitly specifying numeric_only=True to avoid the warning\n",
    "corr_matrix = households_w_heads.corr(numeric_only=True)\n",
    "\n",
    "# Select upper triangle of correlation matrix\n",
    "# Replacing np.bool with bool\n",
    "upper = corr_matrix.where(np.triu(np.ones(corr_matrix.shape), k=1).astype(bool))\n",
    "\n",
    "# Find index of feature columns with correlation greater than 0.95\n",
    "to_drop = [column for column in upper.columns if any(abs(upper[column]) > 0.95)]\n",
    "\n",
    "print(f\"The following are Features that are highly correlated and should be considered for dropping:\\n{to_drop}\")"
   ]
  },
  {
   "cell_type": "code",
   "execution_count": 813,
   "metadata": {},
   "outputs": [
    {
     "data": {
      "text/plain": [
       "'\\nUpon further investigation...\\n\\n- tamhog = size of the household\\n- tamviv = number of persons living in the household\\n- hhsize = household size\\n- hogar_total = # of total individuals in the household\\n\\n- coopele, = 1: electricity from cooperative\\n\\nAll but 1, of these Features, are highly-correlated to each other.\\n'"
      ]
     },
     "execution_count": 813,
     "metadata": {},
     "output_type": "execute_result"
    }
   ],
   "source": [
    "\"\"\"\n",
    "Upon further investigation...\n",
    "\n",
    "- tamhog = size of the household\n",
    "- tamviv = number of persons living in the household\n",
    "- hhsize = household size\n",
    "- hogar_total = # of total individuals in the household\n",
    "\n",
    "- coopele, = 1: electricity from cooperative\n",
    "\n",
    "All but 1, of these Features, are highly-correlated to each other.\n",
    "\"\"\""
   ]
  },
  {
   "cell_type": "code",
   "execution_count": 814,
   "metadata": {},
   "outputs": [
    {
     "data": {
      "text/html": [
       "<div>\n",
       "<style scoped>\n",
       "    .dataframe tbody tr th:only-of-type {\n",
       "        vertical-align: middle;\n",
       "    }\n",
       "\n",
       "    .dataframe tbody tr th {\n",
       "        vertical-align: top;\n",
       "    }\n",
       "\n",
       "    .dataframe thead th {\n",
       "        text-align: right;\n",
       "    }\n",
       "</style>\n",
       "<table border=\"1\" class=\"dataframe\">\n",
       "  <thead>\n",
       "    <tr style=\"text-align: right;\">\n",
       "      <th></th>\n",
       "      <th>r4t3</th>\n",
       "      <th>tamhog</th>\n",
       "      <th>tamviv</th>\n",
       "      <th>hhsize</th>\n",
       "      <th>hogar_total</th>\n",
       "    </tr>\n",
       "  </thead>\n",
       "  <tbody>\n",
       "    <tr>\n",
       "      <th>r4t3</th>\n",
       "      <td>1.000000</td>\n",
       "      <td>0.996884</td>\n",
       "      <td>0.929237</td>\n",
       "      <td>0.996884</td>\n",
       "      <td>0.996884</td>\n",
       "    </tr>\n",
       "    <tr>\n",
       "      <th>tamhog</th>\n",
       "      <td>0.996884</td>\n",
       "      <td>1.000000</td>\n",
       "      <td>0.926667</td>\n",
       "      <td>1.000000</td>\n",
       "      <td>1.000000</td>\n",
       "    </tr>\n",
       "    <tr>\n",
       "      <th>tamviv</th>\n",
       "      <td>0.929237</td>\n",
       "      <td>0.926667</td>\n",
       "      <td>1.000000</td>\n",
       "      <td>0.926667</td>\n",
       "      <td>0.926667</td>\n",
       "    </tr>\n",
       "    <tr>\n",
       "      <th>hhsize</th>\n",
       "      <td>0.996884</td>\n",
       "      <td>1.000000</td>\n",
       "      <td>0.926667</td>\n",
       "      <td>1.000000</td>\n",
       "      <td>1.000000</td>\n",
       "    </tr>\n",
       "    <tr>\n",
       "      <th>hogar_total</th>\n",
       "      <td>0.996884</td>\n",
       "      <td>1.000000</td>\n",
       "      <td>0.926667</td>\n",
       "      <td>1.000000</td>\n",
       "      <td>1.000000</td>\n",
       "    </tr>\n",
       "  </tbody>\n",
       "</table>\n",
       "</div>"
      ],
      "text/plain": [
       "                 r4t3    tamhog    tamviv    hhsize  hogar_total\n",
       "r4t3         1.000000  0.996884  0.929237  0.996884     0.996884\n",
       "tamhog       0.996884  1.000000  0.926667  1.000000     1.000000\n",
       "tamviv       0.929237  0.926667  1.000000  0.926667     0.926667\n",
       "hhsize       0.996884  1.000000  0.926667  1.000000     1.000000\n",
       "hogar_total  0.996884  1.000000  0.926667  1.000000     1.000000"
      ]
     },
     "execution_count": 814,
     "metadata": {},
     "output_type": "execute_result"
    }
   ],
   "source": [
    "# Let's do a correlation matrix to confirm our hypothesis.\n",
    "corr_matrix.loc[corr_matrix['tamhog'].abs() > 0.9, corr_matrix['tamhog'].abs() > 0.9]"
   ]
  },
  {
   "cell_type": "code",
   "execution_count": 815,
   "metadata": {},
   "outputs": [
    {
     "data": {
      "image/png": "[encoded data removed]",
      "text/plain": [
       "<Figure size 640x480 with 2 Axes>"
      ]
     },
     "metadata": {},
     "output_type": "display_data"
    }
   ],
   "source": [
    "sns.heatmap(corr_matrix.loc[corr_matrix['tamhog'].abs() > 0.9, corr_matrix['tamhog'].abs() > 0.9],\n",
    "            annot=True, cmap = plt.cm.Accent_r, fmt='.3f');"
   ]
  },
  {
   "cell_type": "code",
   "execution_count": 816,
   "metadata": {},
   "outputs": [
    {
     "data": {
      "text/plain": [
       "'\\nAs suspected, the above correlation-matrix reveals that, indeed, these features are very highly correlated to each other, given their extremely high scores.\\n\\nDuring our analysis of the original 4 highly-correlated Features ([\\'coopele\\', \\'tamhog\\', \\'hhsize\\', \\'hogar_total\\']):\\n\\n1. \"coopele\" is not related to the others, and will be taken out of consideration.\\n\\n2. \"r4t3\" came out as a new Feature that is provably highly-correlated.\\n3. \"r4t3\" = Total persons in the household\\n4. \"r4t3\" is definitely highly-correlated with the rest of the Features that are being considered for dropping.\\n\\n5. \"tamviv\" came out as a new Feature that is provably highly-correlated.\\n6. \"tamviv\" = number of persons living in the household\\n7. \"tamviv\" is definitely highly-correlated with the rest of the Features that are being considered for dropping.\\n\\n8. both \"r4t3\" and \"tamviv\" did NOT appear in our initial analysis, and thus one of them (tamviv) will be the one Feature that is kept and not dropped.\\n\\n'"
      ]
     },
     "execution_count": 816,
     "metadata": {},
     "output_type": "execute_result"
    }
   ],
   "source": [
    "\"\"\"\n",
    "As suspected, the above correlation-matrix reveals that, indeed, these features are very highly correlated to each other, given their extremely high scores.\n",
    "\n",
    "During our analysis of the original 4 highly-correlated Features (['coopele', 'tamhog', 'hhsize', 'hogar_total']):\n",
    "\n",
    "1. \"coopele\" is not related to the others, and will be taken out of consideration.\n",
    "\n",
    "2. \"r4t3\" came out as a new Feature that is provably highly-correlated.\n",
    "3. \"r4t3\" = Total persons in the household\n",
    "4. \"r4t3\" is definitely highly-correlated with the rest of the Features that are being considered for dropping.\n",
    "\n",
    "5. \"tamviv\" came out as a new Feature that is provably highly-correlated.\n",
    "6. \"tamviv\" = number of persons living in the household\n",
    "7. \"tamviv\" is definitely highly-correlated with the rest of the Features that are being considered for dropping.\n",
    "\n",
    "8. both \"r4t3\" and \"tamviv\" did NOT appear in our initial analysis, and thus one of them (tamviv) will be the one Feature that is kept and not dropped.\n",
    "\n",
    "\"\"\""
   ]
  },
  {
   "cell_type": "code",
   "execution_count": 817,
   "metadata": {},
   "outputs": [
    {
     "name": "stdout",
     "output_type": "stream",
     "text": [
      "Columns have been dropped successfully from both datasets:\n",
      "\t['tamhog', 'hhsize', 'hogar_total', 'r4t3']\n",
      "We are now working with a dataframe of the following dimensions: (9557, 124)\n"
     ]
    }
   ],
   "source": [
    "# To recap, 'coopele', 'tamhog', 'hhsize', 'hogar_total' were initially considered for dropping, \n",
    "# As such, we will be dropping all except one unrelated Feature, \"coopele\", and we're also keeping \"tamviv\" out of all the highly-correlated Features.\n",
    "\n",
    "cols_to_drop = ['tamhog', 'hhsize', 'hogar_total', 'r4t3']\n",
    "try:\n",
    "    for df in [df_train, df_test]:\n",
    "        df.drop(columns = cols_to_drop, inplace=True)\n",
    "    print(f\"Columns have been dropped successfully from both datasets:\\n\\t{cols_to_drop}\")\n",
    "except:\n",
    "    print(\"Something went wrong. Column dropping NOT successful.\")\n",
    "    \n",
    "print(f\"We are now working with a dataframe of the following dimensions: {df_train.shape}\")"
   ]
  },
  {
   "cell_type": "markdown",
   "metadata": {},
   "source": [
    "### 3.7.3 Redundant IND (individual) Features"
   ]
  },
  {
   "cell_type": "code",
   "execution_count": 818,
   "metadata": {},
   "outputs": [
    {
     "data": {
      "text/plain": [
       "(9557, 36)"
      ]
     },
     "execution_count": 818,
     "metadata": {},
     "output_type": "execute_result"
    }
   ],
   "source": [
    "ind = df_train[id_ + ind_bool + ind_ordered]\n",
    "ind.shape"
   ]
  },
  {
   "cell_type": "code",
   "execution_count": 819,
   "metadata": {},
   "outputs": [
    {
     "name": "stdout",
     "output_type": "stream",
     "text": [
      "There are NO (0) Features left that should be considered for dropping.\n"
     ]
    }
   ],
   "source": [
    "# Create correlation matrix\n",
    "corr_matrix = ind.corr(numeric_only=True)\n",
    "\n",
    "# Select upper triangle of correlation matrix\n",
    "upper = corr_matrix.where(np.triu(np.ones(corr_matrix.shape), k=1).astype(bool))\n",
    "\n",
    "# Find index of feature columns with correlation greater than 0.95\n",
    "to_drop = [column for column in upper.columns if any(abs(upper[column]) > 0.95)]\n",
    "\n",
    "if to_drop:\n",
    "    print(f\"The following are Features that are highly correlated and should be considered for dropping:\\n{to_drop}\")\n",
    "else:\n",
    "    print(\"There are NO (0) Features left that should be considered for dropping.\")"
   ]
  },
  {
   "cell_type": "code",
   "execution_count": 820,
   "metadata": {},
   "outputs": [
    {
     "data": {
      "text/plain": [
       "(9557, 123)"
      ]
     },
     "execution_count": 820,
     "metadata": {},
     "output_type": "execute_result"
    }
   ],
   "source": [
    "\"\"\"\n",
    "Since all EDA steps have been completed, we can finally remove the idhogar column.\n",
    "\"\"\"\n",
    "\n",
    "cols_to_drop = ['idhogar']\n",
    "for df in [df_train, df_test]:\n",
    "    df.drop(columns = cols_to_drop, inplace=True)\n",
    "\n",
    "df_train.shape"
   ]
  },
  {
   "cell_type": "markdown",
   "metadata": {},
   "source": [
    "# 4.0 Random Forest Classifier"
   ]
  },
  {
   "cell_type": "markdown",
   "metadata": {},
   "source": [
    "## 4.1 RFC for DF_Train"
   ]
  },
  {
   "cell_type": "markdown",
   "metadata": {},
   "source": [
    "### 4.1.1 Standard Scaler"
   ]
  },
  {
   "cell_type": "code",
   "execution_count": 821,
   "metadata": {},
   "outputs": [
    {
     "name": "stdout",
     "output_type": "stream",
     "text": [
      "Standard Scaler successfully applied. \n",
      "Proceed to working on dataset \"X_data\".\n"
     ]
    }
   ],
   "source": [
    "# Applying Standard Scaler to datasets.\n",
    "\n",
    "from sklearn.preprocessing import StandardScaler\n",
    "\n",
    "X_data = df_train.drop('Target', axis=1)\n",
    "Y_data = df_train.Target\n",
    "X_data_col = X_data.columns\n",
    "\n",
    "try:\n",
    "    SS = StandardScaler()\n",
    "    X_data = SS.fit_transform(X_data)\n",
    "    X_data = pd.DataFrame(X_data, columns=X_data_col)\n",
    "    print('Standard Scaler successfully applied. \\nProceed to working on dataset \"X_data\".')\n",
    "except:\n",
    "    print(\"Something went wrong. Applying Standard Scaler NOT successful.\")"
   ]
  },
  {
   "cell_type": "markdown",
   "metadata": {},
   "source": [
    "### 4.1.2 Model Fitting"
   ]
  },
  {
   "cell_type": "code",
   "execution_count": 822,
   "metadata": {},
   "outputs": [
    {
     "name": "stdout",
     "output_type": "stream",
     "text": [
      "Model-Fitting successful, with test_size=0.25, and random_state=8888.\n",
      "Because Group 8 is AWESOME!!!\n"
     ]
    }
   ],
   "source": [
    "# Initial Model-Fitting.\n",
    "\n",
    "from sklearn.model_selection import train_test_split\n",
    "\n",
    "test_size = 0.25\n",
    "random_state = 8888 # Because Group8 is AWESOOOOME!!!!\n",
    "\n",
    "try:\n",
    "    X_train, X_test, Y_train, Y_test = train_test_split(\n",
    "        X_data, \n",
    "        Y_data,\n",
    "        test_size = test_size,\n",
    "        stratify = Y_data,\n",
    "        random_state = random_state)\n",
    "    print(f\"Model-Fitting successful, with test_size={test_size}, and random_state={random_state}.\\nBecause Group 8 is AWESOME!!!\")\n",
    "except:\n",
    "    print(\"Something went wrong. Model-Fitting NOT successful.\")"
   ]
  },
  {
   "cell_type": "markdown",
   "metadata": {},
   "source": [
    "### 4.1.3 GridSearchCV"
   ]
  },
  {
   "cell_type": "code",
   "execution_count": 823,
   "metadata": {},
   "outputs": [
    {
     "name": "stdout",
     "output_type": "stream",
     "text": [
      "Best CV Score: 0.9133528673084973\n",
      "Best Model Parameters: {'criterion': 'entropy', 'max_depth': 20, 'max_features': None, 'n_estimators': 100}\n",
      "Best Estimator: RandomForestClassifier(criterion='entropy', max_depth=20, max_features=None,\n",
      "                       random_state=8888)\n"
     ]
    }
   ],
   "source": [
    "# Using GridSearchCV to identify the best parameters for the model.\n",
    "\n",
    "from sklearn.ensemble import RandomForestClassifier\n",
    "from sklearn.pipeline import Pipeline\n",
    "from sklearn.model_selection import GridSearchCV\n",
    "\n",
    "rfc1 = RandomForestClassifier(random_state = random_state)\n",
    "\n",
    "\"\"\"\n",
    "The original parameters are as follows:\n",
    "\n",
    "parameters = {'n_estimators':[10,50,100,200],\n",
    "              'max_depth':[5,10,15,20],\n",
    "              'max_features': ['sqrt', 'log2', None],\n",
    "              'criterion': ['gini', 'entropy']\n",
    "              }\n",
    "              \n",
    "We have run several iterations, and acquired the best results,\n",
    "i.e. n_estimators: 100, max_depth: 20, max_features: None, and criterion: entropy.\n",
    "As such, the code has been shortened as per below, to save on computation time.\n",
    "\"\"\"\n",
    "\n",
    "parameters = {'n_estimators':[100],\n",
    "              'max_depth':[20],\n",
    "              'max_features': [None],\n",
    "              'criterion': ['entropy']\n",
    "              }\n",
    "\n",
    "grid = zip([rfc1], [parameters])\n",
    "\n",
    "best_ = None\n",
    "for i, j in grid:\n",
    "    # \"cv\" means k-fold cross validation.\n",
    "    # \"n_jobs\" means num of processing cores we are using on the computer for computation purposes.\n",
    "    a = GridSearchCV(i, param_grid=j, cv=3, n_jobs=4, scoring='accuracy')\n",
    "    a.fit(X_train, Y_train)\n",
    "    if best_ is None:\n",
    "        best_ = a\n",
    "    elif a.best_score_ > best_.best_score_:\n",
    "        best_ = a       \n",
    "\n",
    "print (\"Best CV Score:\", best_.best_score_)\n",
    "print (\"Best Model Parameters:\", best_.best_params_)\n",
    "print(\"Best Estimator:\", best_.best_estimator_)"
   ]
  },
  {
   "cell_type": "code",
   "execution_count": 824,
   "metadata": {},
   "outputs": [
    {
     "name": "stdout",
     "output_type": "stream",
     "text": [
      "Model Score for df_train: 1.0\n",
      "*Note: We did several runs, and made several tweaks, and increased the score from about 0.91xxx, eventually to 1.0.\n",
      "\n",
      "Model Score for df_test: 0.9610878661087866\n"
     ]
    }
   ],
   "source": [
    "# Refitting the RFC model with the new GSCV \"best parameters\".\n",
    "\n",
    "rfc1 = best_.best_estimator_\n",
    "Model = rfc1.fit(X_train, Y_train)\n",
    "pred = Model.predict(X_test)\n",
    "\n",
    "print(f'Model Score for df_train: {Model.score(X_train, Y_train)}')\n",
    "print(\"*Note: We did several runs, and made several tweaks, and increased the score from about 0.91xxx, eventually to 1.0.\")\n",
    "print(f'\\nModel Score for df_test: {Model.score(X_test, Y_test)}')"
   ]
  },
  {
   "cell_type": "markdown",
   "metadata": {},
   "source": [
    "### 4.1.4 Top 50 Features"
   ]
  },
  {
   "cell_type": "code",
   "execution_count": 825,
   "metadata": {},
   "outputs": [
    {
     "name": "stdout",
     "output_type": "stream",
     "text": [
      "The following are the Top50Features: \n",
      " Index(['meaneduc', 'dependency', 'hogar_nin', 'overcrowding', 'qmobilephone',\n",
      "       'edjefe', 'rooms', 'v2a1', 'edjefa', 'r4t1', 'r4t2', 'r4h2', 'r4h3',\n",
      "       'r4m3', 'age', 'bedrooms', 'cielorazo', 'v18q1', 'hogar_adul', 'r4m2',\n",
      "       'tamviv', 'paredblolad', 'eviv3', 'lugar1', 'area1', 'pisomoscer',\n",
      "       'r4h1', 'r4m1', 'paredpreb', 'etecho1', 'energcocinar2', 'etecho3',\n",
      "       'television', 'epared2', 'etecho2', 'epared3', 'eviv2', 'energcocinar3',\n",
      "       'lugar3', 'tipovivi1', 'pisocemento', 'lugar5', 'escolari', 'lugar4',\n",
      "       'paredmad', 'tipovivi5', 'paredzocalo', 'sanitario3', 'hogar_mayor',\n",
      "       'eviv1'],\n",
      "      dtype='object')\n"
     ]
    }
   ],
   "source": [
    "# Determining Top-50 most important features.\n",
    "\n",
    "Important_features = pd.DataFrame(Model.feature_importances_, X_data_col, columns=['feature_importance'])\n",
    "Top50Features = Important_features.sort_values(by='feature_importance', ascending=False).head(50).index\n",
    "\n",
    "print(\"The following are the Top50Features: \\n\", Top50Features)"
   ]
  },
  {
   "cell_type": "code",
   "execution_count": 826,
   "metadata": {},
   "outputs": [
    {
     "name": "stdout",
     "output_type": "stream",
     "text": [
      "There are no Features that are not already included in the Top50Features list.\n",
      "X_data updated to X_data[Top50Features] = \"X_data_Top50\". \n",
      "Proceed to working with this new dataset.\n"
     ]
    }
   ],
   "source": [
    "list1 = []\n",
    "for i in Top50Features:\n",
    "    if i not in X_data_col:\n",
    "        print(i)\n",
    "        list1.append(i)\n",
    "\n",
    "if list1:\n",
    "    print(\"The above are Features that are NOT included in the Top50Features list. \\nPlease rectify!\")\n",
    "else:\n",
    "    print(\"There are no Features that are not already included in the Top50Features list.\")\n",
    "    X_data_Top50 = X_data[Top50Features]\n",
    "    print('X_data updated to X_data[Top50Features] = \"X_data_Top50\". \\nProceed to working with this new dataset.')\n"
   ]
  },
  {
   "cell_type": "markdown",
   "metadata": {},
   "source": [
    "### 4.1.5 df_train Predictions"
   ]
  },
  {
   "cell_type": "code",
   "execution_count": 827,
   "metadata": {},
   "outputs": [
    {
     "name": "stdout",
     "output_type": "stream",
     "text": [
      "The following are the results for \"Target\" in DF_TRAIN using Group8's optimized RFC model:\n",
      "Target: 1 - Count: 192\n",
      "Target: 4 - Count: 1559\n",
      "Target: 2 - Count: 351\n",
      "Target: 3 - Count: 288\n",
      "\n",
      "Total number of predictions: 2390\n",
      "Number of rows in X_test (df_train): 2390\n"
     ]
    },
    {
     "data": {
      "image/png": "[encoded data removed]",
      "text/plain": [
       "<Figure size 1000x600 with 1 Axes>"
      ]
     },
     "metadata": {},
     "output_type": "display_data"
    }
   ],
   "source": [
    "from collections import Counter\n",
    "import seaborn as sns\n",
    "import matplotlib.pyplot as plt\n",
    "\n",
    "X_train, X_test, Y_train, Y_test = train_test_split(\n",
    "    X_data_Top50,\n",
    "    Y_data,\n",
    "    test_size=test_size,\n",
    "    stratify=Y_data,\n",
    "    random_state=random_state)\n",
    "\n",
    "Model = rfc1.fit(X_train, Y_train)\n",
    "pred = Model.predict(X_test)\n",
    "\n",
    "# Grouping the predictions by their counts\n",
    "pred_counts = Counter(pred)\n",
    "\n",
    "print(\"The following are the results for \\\"Target\\\" in DF_TRAIN using Group8's optimized RFC model:\")\n",
    "total_count = 0\n",
    "for value, count in pred_counts.items():\n",
    "    print(f\"Target: {value} - Count: {count}\")\n",
    "    total_count += count\n",
    "\n",
    "print(\"\\nTotal number of predictions:\", total_count)\n",
    "print(\"Number of rows in X_test (df_train):\", len(X_test))\n",
    "\n",
    "# Convert the Counter object to a DataFrame for easy plotting\n",
    "pred_counts_df = pd.DataFrame(list(pred_counts.items()), columns=['Target', 'Count'])\n",
    "\n",
    "# Plotting the results\n",
    "plt.figure(figsize=(10, 6))\n",
    "barplot = sns.barplot(x='Target', y='Count', data=pred_counts_df, palette='viridis')\n",
    "\n",
    "plt.title('Results for \"Target\" for DF_TRAIN using Group8\\'s RFC model')\n",
    "plt.xlabel('Target Value')\n",
    "plt.ylabel('Count')\n",
    "\n",
    "# Annotating the bars with the actual values\n",
    "for p in barplot.patches:\n",
    "    barplot.annotate(format(p.get_height(), '.0f'),\n",
    "                     (p.get_x() + p.get_width() / 2., p.get_height()),\n",
    "                     ha='center', va='center',\n",
    "                     xytext=(0, 10),\n",
    "                     textcoords='offset points')\n",
    "\n",
    "plt.show()\n"
   ]
  },
  {
   "cell_type": "code",
   "execution_count": 828,
   "metadata": {},
   "outputs": [
    {
     "data": {
      "text/plain": [
       "'\\nThe above results look reasonably acceptable, and as such, we will proceed.\\n'"
      ]
     },
     "execution_count": 828,
     "metadata": {},
     "output_type": "execute_result"
    }
   ],
   "source": [
    "\"\"\"\n",
    "The above results look reasonably acceptable, and as such, we will proceed.\n",
    "\"\"\""
   ]
  },
  {
   "cell_type": "markdown",
   "metadata": {},
   "source": [
    "### 4.1.6 Confusion Matrix"
   ]
  },
  {
   "cell_type": "code",
   "execution_count": 829,
   "metadata": {},
   "outputs": [
    {
     "name": "stdout",
     "output_type": "stream",
     "text": [
      "Confusion Matrix:\n",
      "[[ 185    0    0    9]\n",
      " [   5  347    5   33]\n",
      " [   1    2  280   22]\n",
      " [   1    2    3 1495]]\n",
      "\n",
      "Detailed Explanation:\n",
      "Class 0: True Positive: 185, False Negative: 9, False Positive: 7, True Negative: 2205\n",
      "Class 1: True Positive: 347, False Negative: 43, False Positive: 4, True Negative: 1996\n",
      "Class 2: True Positive: 280, False Negative: 25, False Positive: 8, True Negative: 2077\n",
      "Class 3: True Positive: 1495, False Negative: 6, False Positive: 64, True Negative: 895\n",
      "\n",
      "Legend:\n",
      "True Positive (TP): Actual and predicted class match.\n",
      "False Negative (FN): Actual class was positive but predicted as negative.\n",
      "False Positive (FP): Actual class was negative but predicted as positive.\n",
      "True Negative (TN): Actual and predicted class are negative.\n"
     ]
    },
    {
     "data": {
      "image/png": "[encoded data removed]",
      "text/plain": [
       "<Figure size 1000x700 with 2 Axes>"
      ]
     },
     "metadata": {},
     "output_type": "display_data"
    }
   ],
   "source": [
    "from sklearn.metrics import confusion_matrix\n",
    "\n",
    "# Getting the confusion matrix\n",
    "cm = confusion_matrix(Y_test, pred)\n",
    "\n",
    "# Displaying the confusion matrix\n",
    "print(\"Confusion Matrix:\")\n",
    "print(cm)\n",
    "\n",
    "# Explaining the confusion matrix\n",
    "print(\"\\nDetailed Explanation:\")\n",
    "print(f\"Class 0: True Positive: {cm[0][0]}, False Negative: {sum(cm[0][1:])}, False Positive: {sum(cm[i][0] for i in range(1,4))}, True Negative: {sum(cm[i][j] for i in range(1,4) for j in range(1,4)) + sum(cm[i][0] for i in range(1,4)) + sum(cm[0][1:])}\")\n",
    "print(f\"Class 1: True Positive: {cm[1][1]}, False Negative: {cm[1][0] + sum(cm[1][2:])}, False Positive: {sum(cm[i][1] for i in range(0,4) if i != 1)}, True Negative: {sum(cm[i][j] for i in range(0,4) for j in range(0,4) if i != 1 and j != 1)}\")\n",
    "print(f\"Class 2: True Positive: {cm[2][2]}, False Negative: {cm[2][0] + cm[2][1] + cm[2][3]}, False Positive: {sum(cm[i][2] for i in range(0,4) if i != 2)}, True Negative: {sum(cm[i][j] for i in range(0,4) for j in range(0,4) if i != 2 and j != 2)}\")\n",
    "print(f\"Class 3: True Positive: {cm[3][3]}, False Negative: {cm[3][0] + cm[3][1] + cm[3][2]}, False Positive: {sum(cm[i][3] for i in range(0,3))}, True Negative: {sum(cm[i][j] for i in range(0,3) for j in range(0,3)) + sum(cm[i][3] for i in range(0,3)) + sum(cm[3][0:3])}\")\n",
    "\n",
    "print(\"\\nLegend:\")\n",
    "print(\"True Positive (TP): Actual and predicted class match.\")\n",
    "print(\"False Negative (FN): Actual class was positive but predicted as negative.\")\n",
    "print(\"False Positive (FP): Actual class was negative but predicted as positive.\")\n",
    "print(\"True Negative (TN): Actual and predicted class are negative.\")\n",
    "\n",
    "# Creating a DataFrame for better label management\n",
    "cm_df = pd.DataFrame(cm,\n",
    "                     index = ['Class 0','Class 1','Class 2', 'Class 3'], \n",
    "                     columns = ['Class 0','Class 1','Class 2', 'Class 3'])\n",
    "\n",
    "# Creating the heatmap using Seaborn\n",
    "plt.figure(figsize=(10, 7))\n",
    "sns.heatmap(cm_df, annot=True, cmap=\"YlGnBu\", fmt=\"d\")\n",
    "plt.title('Confusion Matrix')\n",
    "plt.ylabel('Actual label')\n",
    "plt.xlabel('Predicted label')\n",
    "plt.show()"
   ]
  },
  {
   "cell_type": "markdown",
   "metadata": {},
   "source": [
    "### 4.1.7 F1 and Accuracy Scores"
   ]
  },
  {
   "cell_type": "code",
   "execution_count": 830,
   "metadata": {},
   "outputs": [
    {
     "name": "stdout",
     "output_type": "stream",
     "text": [
      "F1 Score (Weighted): 0.9648167729123841\n",
      "\n",
      "Accuracy Score: 0.9652719665271966\n",
      "\n",
      "These scores help you understand how well your model is doing at predicting the correct answers. \n",
      "If these scores are high (close to 1.0), your model is doing a good job. If they are low, there might be something wrong, and you may need to make some adjustments.\n"
     ]
    }
   ],
   "source": [
    "from sklearn.metrics import f1_score, accuracy_score\n",
    "\n",
    "# Calculate the F1 score (weighted)\n",
    "f1_weighted = f1_score(Y_test, pred, average='weighted')\n",
    "print(\"F1 Score (Weighted):\", f1_weighted)\n",
    "\n",
    "# Calculate the accuracy\n",
    "accuracy = accuracy_score(Y_test, pred)\n",
    "print(\"\\nAccuracy Score:\", accuracy)\n",
    "\n",
    "print(\"\\nThese scores help you understand how well your model is doing at predicting the correct answers. \\nIf these scores are high (close to 1.0), your model is doing a good job. If they are low, there might be something wrong, and you may need to make some adjustments.\")\n"
   ]
  },
  {
   "cell_type": "markdown",
   "metadata": {},
   "source": [
    "## 4.2 RFC for DF_Test"
   ]
  },
  {
   "cell_type": "code",
   "execution_count": 831,
   "metadata": {},
   "outputs": [
    {
     "name": "stdout",
     "output_type": "stream",
     "text": [
      "The following are the results for \"Target\" for DF_TEST using Group8's optimized RFC model:\n",
      "F1 Score (Weighted): 0.9648167729123841\n",
      "Accuracy Score: 0.9652719665271966\n",
      "Target: 4 - Count: 18112\n",
      "Target: 2 - Count: 3360\n",
      "Target: 3 - Count: 1170\n",
      "Target: 1 - Count: 1214\n",
      "\n",
      "Total number of predictions: 23856\n",
      "Number of rows in X_test_data (df_test): 23856\n"
     ]
    },
    {
     "data": {
      "image/png": "[encoded data removed]",
      "text/plain": [
       "<Figure size 1000x600 with 1 Axes>"
      ]
     },
     "metadata": {},
     "output_type": "display_data"
    }
   ],
   "source": [
    "from collections import Counter\n",
    "import seaborn as sns\n",
    "import matplotlib.pyplot as plt\n",
    "\n",
    "# Preprocessing the test data\n",
    "# Ensure df_test has the same columns as X_data_0\n",
    "X_test_data = df_test[X_data_col]\n",
    "\n",
    "# Apply the same StandardScaler transformation\n",
    "X_test_data_scaled = SS.transform(X_test_data) # Note: use transform, not fit_transform, to ensure the same scaling is applied\n",
    "X_test_data_scaled = pd.DataFrame(X_test_data_scaled, columns=X_data_col)\n",
    "X_test_data_Top50 = X_test_data_scaled[Top50Features]\n",
    "\n",
    "# Make predictions using the trained RandomForest model\n",
    "test_predictions = Model.predict(X_test_data_Top50)\n",
    "\n",
    "# The test_predictions variable now contains the predicted target values for the df_test data\n",
    "# Grouping the predictions by their counts\n",
    "pred_counts = Counter(test_predictions)\n",
    "\n",
    "print(\"The following are the results for \\\"Target\\\" for DF_TEST using Group8's optimized RFC model:\")\n",
    "print(\"F1 Score (Weighted):\", f1_weighted)\n",
    "print(\"Accuracy Score:\", accuracy)\n",
    "total_count = 0\n",
    "for value, count in pred_counts.items():\n",
    "    print(f\"Target: {value} - Count: {count}\")\n",
    "    total_count += count\n",
    "\n",
    "print(\"\\nTotal number of predictions:\", total_count)\n",
    "print(\"Number of rows in X_test_data (df_test):\", len(X_test_data))\n",
    "\n",
    "# Convert the Counter object to a DataFrame for easy plotting\n",
    "pred_counts_df = pd.DataFrame(list(pred_counts.items()), columns=['Target', 'Count'])\n",
    "\n",
    "# Plotting the results\n",
    "plt.figure(figsize=(10, 6))\n",
    "barplot = sns.barplot(x='Target', y='Count', data=pred_counts_df, palette='viridis')\n",
    "\n",
    "plt.title('Results for \"Target\" for DF_TEST using Group8\\'s RFC model')\n",
    "plt.xlabel('Target Value')\n",
    "plt.ylabel('Count')\n",
    "\n",
    "# Annotating the bars with the actual values\n",
    "for p in barplot.patches:\n",
    "    barplot.annotate(format(p.get_height(), '.0f'),\n",
    "                     (p.get_x() + p.get_width() / 2., p.get_height()),\n",
    "                     ha='center', va='center',\n",
    "                     xytext=(0, 10),\n",
    "                     textcoords='offset points')\n",
    "\n",
    "plt.show()\n"
   ]
  },
  {
   "cell_type": "markdown",
   "metadata": {},
   "source": [
    "# END OF DOCUMENT"
   ]
  },
  {
   "cell_type": "code",
   "execution_count": 832,
   "metadata": {},
   "outputs": [
    {
     "data": {
      "image/png": "[encoded data removed]",
      "text/plain": [
       "<Figure size 1200x600 with 1 Axes>"
      ]
     },
     "metadata": {},
     "output_type": "display_data"
    }
   ],
   "source": [
    "text = \"A heartfelt and sincere THANK YOU to the staff of BCG \\nfrom us at BCGR2-W9-Group8 \\nfor taking the time to read and grade our project! \\n<3 <3 <3\"\n",
    "\n",
    "plt.figure(figsize=(12, 6))\n",
    "\n",
    "# Using a vibrant color\n",
    "plt.text(0.5, 0.5, text,\n",
    "         fontsize=12,\n",
    "         ha='center',\n",
    "         va='center',\n",
    "         color='darkviolet',\n",
    "         backgroundcolor='yellow',\n",
    "         fontweight='bold',\n",
    "         bbox=dict(boxstyle=\"round,pad=1\", edgecolor=\"darkviolet\", facecolor=\"lightgoldenrodyellow\"))\n",
    "\n",
    "# Removing the axis for clean visualization\n",
    "plt.axis('off')\n",
    "\n",
    "plt.show()\n"
   ]
  }
 ],
 "metadata": {
  "kernelspec": {
   "display_name": "base",
   "language": "python",
   "name": "python3"
  },
  "language_info": {
   "codemirror_mode": {
    "name": "ipython",
    "version": 3
   },
   "file_extension": ".py",
   "mimetype": "text/x-python",
   "name": "python",
   "nbconvert_exporter": "python",
   "pygments_lexer": "ipython3",
   "version": "3.10.9"
  },
  "orig_nbformat": 4
 },
 "nbformat": 4,
 "nbformat_minor": 2
}
